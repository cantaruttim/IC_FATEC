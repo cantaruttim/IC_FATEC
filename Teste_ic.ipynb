{
  "nbformat": 4,
  "nbformat_minor": 0,
  "metadata": {
    "colab": {
      "provenance": [],
      "authorship_tag": "ABX9TyO5vWs4c5iXBA9PHFh+knbU",
      "include_colab_link": true
    },
    "kernelspec": {
      "name": "python3",
      "display_name": "Python 3"
    },
    "language_info": {
      "name": "python"
    }
  },
  "cells": [
    {
      "cell_type": "markdown",
      "metadata": {
        "id": "view-in-github",
        "colab_type": "text"
      },
      "source": [
        "<a href=\"https://colab.research.google.com/github/cantaruttim/IC_FATEC/blob/main/Teste_ic.ipynb\" target=\"_parent\"><img src=\"https://colab.research.google.com/assets/colab-badge.svg\" alt=\"Open In Colab\"/></a>"
      ]
    },
    {
      "cell_type": "code",
      "execution_count": 1,
      "metadata": {
        "id": "Y88R161Vl_n2"
      },
      "outputs": [],
      "source": [
        "# TESTE\n",
        "\n",
        "#gene = input(str('Gene identificado '))\n",
        "#print(gene)"
      ]
    },
    {
      "cell_type": "code",
      "source": [
        "# Exemplo de dicionário com gene:descrição\n",
        "\n",
        "gene_dic = {\n",
        "    'Genes':['TBX1', 'CRKL, ERK2/MAPK1', 'GJA5', 'PRDM16', \n",
        "                     'GATA4', 'WHSC1, FGFRL1', 'ELN, WSTF', 'EHMT1, NOTCH1',\n",
        "                     'PTPN11 (50%)', 'RIT1 (alta incidência de DCC)', 'RBPJ', 'NOTCH1',\n",
        "                     'TBX5', 'JAG1', 'NOTCH2'],\n",
        "            'Localização Cromossômica':['22Q11.2', '22q11.22', '1q21.1', '1P36.32',\n",
        "                                        '8p23.1', '4p16.3', '7q11.23', '9q34.3', '12q24.12',\n",
        "                                        '1q22', '4p12.2', '9q34.3', '12q24.21', '20p12.2', '1p12'],\n",
        "            'Condições': ['Deleção/Duplicação de 22q11.2',\n",
        "                          '22q11.2del distal',\n",
        "                          'Deleção/Duplicação de 1q21.1',\n",
        "                          '1p36del',\n",
        "                          '8P23.1DEL',\n",
        "                          'Síndrome de Wolf-Hirschhorn',\n",
        "                          'Síndrome de Williams Beuren',\n",
        "                          'Síndrome de Kleefstra',\n",
        "                          'Síndrome de Noonan',\n",
        "                          'Síndrome de Noonan',\n",
        "                          'Síndrome de Adams Oliver',\n",
        "                          'Síndrome de Adams Oliver',\n",
        "                          'Síndrome de Holt-Oram', \n",
        "                          'Síndrome de Alagille',\n",
        "                          'Síndrome de Alagille'],\n",
        "            'Descrição':['também conhecida como Síndrome DiGeorge ou velocardiofacial. É considerada uma das síndromes de microdeleção genética mais freqüentes em seres humanos. Caracteriza-se por um espectro fenotípico muito amplo.',\n",
        "                         'Indivíduos com síndrome de deleção 22q11.2 (22q11.2DS) podem apresentar uma ampla gama de características que são altamente variáveis, mesmo dentro das famílias. As principais manifestações clínicas da SD22q11.2 incluem cardiopatia congênita, particularmente malformações conotruncais (defeito do septo ventricular, tetralogia de Fallot, interrupção do arco aórtico e truncus arteriosus), anormalidades palatinas (incompetência velofaríngea, fenda palatina submucosa, úvula bífida e fenda palatina ), imunodeficiência, traços faciais característicos e dificuldades de aprendizagem. A perda auditiva pode ser neurossensorial e/ou condutiva. Também ocorrem anomalias laringotraqueoesofágicas, gastrointestinais, oftalmológicas, do sistema nervoso central, esqueléticas e geniturinárias. Doenças psiquiátricas e distúrbios autoimunes são mais comuns em indivíduos com SD22q11.2.',\n",
        "                         'é uma síndrome de deleção recorrente recém-descrito com manifestações clínicas variáveis, mas sem o quadro clínico de trombocitopenia - síndrome raio ausente (TAR).',\n",
        "                         'é um distúrbio que geralmente causa deficiência intelectual grave. A maioria dos indivíduos afetados não fala ou fala apenas algumas palavras. Eles podem ter acessos de raiva, morder a si mesmos ou exibir outros problemas de comportamento.',\n",
        "                         'A Trissomia do Cromossomo 8 em Moisaico é definida como a presença de três cópias do cromossomo 8 em algumas células do organismo. A frequência estimada de Trissomia do Cromossomo 8 em Moisaico é de cerca de 1/25.000 a 50.000 nascidos vivos e é encontrado ser mais prevalente em homens do que as mulheres. O fenótipo varia muito, desde anomalias para deficiências físicas e mentais graves, e más-formações que pode ou não ser detectável por ultrassonografia pré-natal. Conhecida por demonstrar extrema variabilidade clínica afetando vários sistemas, incluindo o Nervoso Central, ocular, cardíaco, gastrointestinal, genito-urinário e músculo-esquelético.',\n",
        "                         'Doença do desenvolvimento caracterizada por características craniofaciais típicas, défice de crescimento pré e pós-natal, perturbação do desenvolvimento intelectual, atraso grave no desenvolvimento psicomotor, convulsões e hipotonia. São observados atrasos graves de crescimento intra-uterino e no aumento de peso pós-natal. A fácies distinta é caracterizada por uma ponte nasal larga que se prolonga até à fronte (mais notório antes da puberdade), microcefalia, testa alta com glabela proeminente, sobrancelhas arqueadas, hipertelorismo, epicanto, malformação das orelhas com depressões/tags, filtro curto, cantos da boca inclinados para baixo, micrognatia e, nalguns casos, fenda labio-palatina. As anomalias esqueléticas incluem cifose ou escoliose com corpos vertebrais malformados, costelas acessórias ou fundidas, desvio dos pés e mão dividida. Os doentes apresentam hipotonia com subdesenvolvimento muscular, que frequentemente causa dificuldades alimentares e défice de crescimento. O atraso no desenvolvimento é grave: a maioria das crianças não atinge o controle de esfincteres, alimentar-se ou vestir-se de forma independente e menos de 50% adquire autonomia da marcha, com ou sem apoio. A perturbação do desenvolvimento intelectual é moderada a grave, raramente é ligeira. A fala é limitada a sons guturais ou dissílabos, embora alguns doentes consigam articular frases simples. O início das convulsões é frequentemente observado entre o período neonatal e os 36 meses (em até 95% dos doentes); o tipo de convulsão varia e muitas vezes é desencadeada por febre. O estado de mal epilético ocorre em metade dos doentes e as crianças podem desenvolver ausências atípicas (mais de 30%). Em aproximadamente metade dos doentes as convulsões cessam na infância. Na maioria das situações existem defeitos estruturais do sistema nervoso central, incluindo principalmente uma diminuição da espessura do corpo caloso. Outras anomalias frequentes incluem defeitos cardíacos congénitos (50%), anomalias oftalmológicas, auditivas e dentárias. Os doentes podem apresentar infeções recorrentes do trato respiratório e otite média, devido a défices de anticorpos (subclasse IgA ou IgG2). Têm sido descritas malformações do trato urinário, e metade dos doentes do sexo masculino apresenta hipospádia e criptorquidia.',\n",
        "                         'é uma doença multissistêmica, devido a alteração estrutural do cromossomo 7, em que possui a deleção de aproximadamente 25 genes contíguos',\n",
        "                         'é uma doença genética caracterizada por défice intelectual, hipotonia na infância, grave atraso de linguagem expressiva e uma aparência facial característica, com um espectro de outras características clínicas adicionais.',\n",
        "                         'é uma doença geneticamente heterogênea, caracterizada por cardiopatias congênitas, alterações faciais distintas, baixa estatura e outras manifestações. Destacamos a necessidade de obtenção de um diagnóstico precoce e correto, visando à melhoria da qualidade de vida dos portadores da síndrome.',\n",
        "                         'é uma doença geneticamente heterogênea, caracterizada por cardiopatias congênitas, alterações faciais distintas, baixa estatura e outras manifestações. Destacamos a necessidade de obtenção de um diagnóstico precoce e correto, visando à melhoria da qualidade de vida dos portadores da síndrome.',\n",
        "                         'é uma anomalia complexa, congênita e rara, caracterizada por aplasia con- gênita da cútis e defeitos dos membros e extremidades.',\n",
        "                         'é uma anomalia complexa, congênita e rara, caracterizada por aplasia con- gênita da cútis e defeitos dos membros e extremidades.',\n",
        "                         'trata-se de uma desordem cardíaca, genética, que vem acompanhada de malformações esqueléticas, caracterizada por comunicação interatrial, distúrbios de condição atrioventricular, hipoplasia vascular e malformações musculoesqueléticas dos membros superiores.',\n",
        "                         'é uma doença autossômica dominante que acomete 1 a cada 30 mil nascidos vivos, atingindo igualmente ambos os sexos. Está relacionada a defeito no gene JAGGED12. Caracteriza-se por anomalias no fígado, coração, olhos, face e esqueleto.',\n",
        "                         'é uma doença autossômica dominante que acomete 1 a cada 30 mil nascidos vivos, atingindo igualmente ambos os sexos. Está relacionada a defeito no gene JAGGED12. Caracteriza-se por anomalias no fígado, coração, olhos, face e esqueleto.'\n",
        "                         ]\n",
        "            }"
      ],
      "metadata": {
        "id": "fuH4hSNooKLg"
      },
      "execution_count": 2,
      "outputs": []
    },
    {
      "cell_type": "code",
      "source": [
        "gene_dic"
      ],
      "metadata": {
        "colab": {
          "base_uri": "https://localhost:8080/"
        },
        "id": "yGNqSDsKoKW7",
        "outputId": "91903fd9-f581-43aa-ebe0-745e6d0f8628"
      },
      "execution_count": 3,
      "outputs": [
        {
          "output_type": "execute_result",
          "data": {
            "text/plain": [
              "{'Genes': ['TBX1',\n",
              "  'CRKL, ERK2/MAPK1',\n",
              "  'GJA5',\n",
              "  'PRDM16',\n",
              "  'GATA4',\n",
              "  'WHSC1, FGFRL1',\n",
              "  'ELN, WSTF',\n",
              "  'EHMT1, NOTCH1',\n",
              "  'PTPN11 (50%)',\n",
              "  'RIT1 (alta incidência de DCC)',\n",
              "  'RBPJ',\n",
              "  'NOTCH1',\n",
              "  'TBX5',\n",
              "  'JAG1',\n",
              "  'NOTCH2'],\n",
              " 'Localização Cromossômica': ['22Q11.2',\n",
              "  '22q11.22',\n",
              "  '1q21.1',\n",
              "  '1P36.32',\n",
              "  '8p23.1',\n",
              "  '4p16.3',\n",
              "  '7q11.23',\n",
              "  '9q34.3',\n",
              "  '12q24.12',\n",
              "  '1q22',\n",
              "  '4p12.2',\n",
              "  '9q34.3',\n",
              "  '12q24.21',\n",
              "  '20p12.2',\n",
              "  '1p12'],\n",
              " 'Condições': ['Deleção/Duplicação de 22q11.2',\n",
              "  '22q11.2del distal',\n",
              "  'Deleção/Duplicação de 1q21.1',\n",
              "  '1p36del',\n",
              "  '8P23.1DEL',\n",
              "  'Síndrome de Wolf-Hirschhorn',\n",
              "  'Síndrome de Williams Beuren',\n",
              "  'Síndrome de Kleefstra',\n",
              "  'Síndrome de Noonan',\n",
              "  'Síndrome de Noonan',\n",
              "  'Síndrome de Adams Oliver',\n",
              "  'Síndrome de Adams Oliver',\n",
              "  'Síndrome de Holt-Oram',\n",
              "  'Síndrome de Alagille',\n",
              "  'Síndrome de Alagille'],\n",
              " 'Descrição': ['também conhecida como Síndrome DiGeorge ou velocardiofacial. É considerada uma das síndromes de microdeleção genética mais freqüentes em seres humanos. Caracteriza-se por um espectro fenotípico muito amplo.',\n",
              "  'Indivíduos com síndrome de deleção 22q11.2 (22q11.2DS) podem apresentar uma ampla gama de características que são altamente variáveis, mesmo dentro das famílias. As principais manifestações clínicas da SD22q11.2 incluem cardiopatia congênita, particularmente malformações conotruncais (defeito do septo ventricular, tetralogia de Fallot, interrupção do arco aórtico e truncus arteriosus), anormalidades palatinas (incompetência velofaríngea, fenda palatina submucosa, úvula bífida e fenda palatina ), imunodeficiência, traços faciais característicos e dificuldades de aprendizagem. A perda auditiva pode ser neurossensorial e/ou condutiva. Também ocorrem anomalias laringotraqueoesofágicas, gastrointestinais, oftalmológicas, do sistema nervoso central, esqueléticas e geniturinárias. Doenças psiquiátricas e distúrbios autoimunes são mais comuns em indivíduos com SD22q11.2.',\n",
              "  'é uma síndrome de deleção recorrente recém-descrito com manifestações clínicas variáveis, mas sem o quadro clínico de trombocitopenia - síndrome raio ausente (TAR).',\n",
              "  'é um distúrbio que geralmente causa deficiência intelectual grave. A maioria dos indivíduos afetados não fala ou fala apenas algumas palavras. Eles podem ter acessos de raiva, morder a si mesmos ou exibir outros problemas de comportamento.',\n",
              "  'A Trissomia do Cromossomo 8 em Moisaico é definida como a presença de três cópias do cromossomo 8 em algumas células do organismo. A frequência estimada de Trissomia do Cromossomo 8 em Moisaico é de cerca de 1/25.000 a 50.000 nascidos vivos e é encontrado ser mais prevalente em homens do que as mulheres. O fenótipo varia muito, desde anomalias para deficiências físicas e mentais graves, e más-formações que pode ou não ser detectável por ultrassonografia pré-natal. Conhecida por demonstrar extrema variabilidade clínica afetando vários sistemas, incluindo o Nervoso Central, ocular, cardíaco, gastrointestinal, genito-urinário e músculo-esquelético.',\n",
              "  'Doença do desenvolvimento caracterizada por características craniofaciais típicas, défice de crescimento pré e pós-natal, perturbação do desenvolvimento intelectual, atraso grave no desenvolvimento psicomotor, convulsões e hipotonia. São observados atrasos graves de crescimento intra-uterino e no aumento de peso pós-natal. A fácies distinta é caracterizada por uma ponte nasal larga que se prolonga até à fronte (mais notório antes da puberdade), microcefalia, testa alta com glabela proeminente, sobrancelhas arqueadas, hipertelorismo, epicanto, malformação das orelhas com depressões/tags, filtro curto, cantos da boca inclinados para baixo, micrognatia e, nalguns casos, fenda labio-palatina. As anomalias esqueléticas incluem cifose ou escoliose com corpos vertebrais malformados, costelas acessórias ou fundidas, desvio dos pés e mão dividida. Os doentes apresentam hipotonia com subdesenvolvimento muscular, que frequentemente causa dificuldades alimentares e défice de crescimento. O atraso no desenvolvimento é grave: a maioria das crianças não atinge o controle de esfincteres, alimentar-se ou vestir-se de forma independente e menos de 50% adquire autonomia da marcha, com ou sem apoio. A perturbação do desenvolvimento intelectual é moderada a grave, raramente é ligeira. A fala é limitada a sons guturais ou dissílabos, embora alguns doentes consigam articular frases simples. O início das convulsões é frequentemente observado entre o período neonatal e os 36 meses (em até 95% dos doentes); o tipo de convulsão varia e muitas vezes é desencadeada por febre. O estado de mal epilético ocorre em metade dos doentes e as crianças podem desenvolver ausências atípicas (mais de 30%). Em aproximadamente metade dos doentes as convulsões cessam na infância. Na maioria das situações existem defeitos estruturais do sistema nervoso central, incluindo principalmente uma diminuição da espessura do corpo caloso. Outras anomalias frequentes incluem defeitos cardíacos congénitos (50%), anomalias oftalmológicas, auditivas e dentárias. Os doentes podem apresentar infeções recorrentes do trato respiratório e otite média, devido a défices de anticorpos (subclasse IgA ou IgG2). Têm sido descritas malformações do trato urinário, e metade dos doentes do sexo masculino apresenta hipospádia e criptorquidia.',\n",
              "  'é uma doença multissistêmica, devido a alteração estrutural do cromossomo 7, em que possui a deleção de aproximadamente 25 genes contíguos',\n",
              "  'é uma doença genética caracterizada por défice intelectual, hipotonia na infância, grave atraso de linguagem expressiva e uma aparência facial característica, com um espectro de outras características clínicas adicionais.',\n",
              "  'é uma doença geneticamente heterogênea, caracterizada por cardiopatias congênitas, alterações faciais distintas, baixa estatura e outras manifestações. Destacamos a necessidade de obtenção de um diagnóstico precoce e correto, visando à melhoria da qualidade de vida dos portadores da síndrome.',\n",
              "  'é uma doença geneticamente heterogênea, caracterizada por cardiopatias congênitas, alterações faciais distintas, baixa estatura e outras manifestações. Destacamos a necessidade de obtenção de um diagnóstico precoce e correto, visando à melhoria da qualidade de vida dos portadores da síndrome.',\n",
              "  'é uma anomalia complexa, congênita e rara, caracterizada por aplasia con- gênita da cútis e defeitos dos membros e extremidades.',\n",
              "  'é uma anomalia complexa, congênita e rara, caracterizada por aplasia con- gênita da cútis e defeitos dos membros e extremidades.',\n",
              "  'trata-se de uma desordem cardíaca, genética, que vem acompanhada de malformações esqueléticas, caracterizada por comunicação interatrial, distúrbios de condição atrioventricular, hipoplasia vascular e malformações musculoesqueléticas dos membros superiores.',\n",
              "  'é uma doença autossômica dominante que acomete 1 a cada 30 mil nascidos vivos, atingindo igualmente ambos os sexos. Está relacionada a defeito no gene JAGGED12. Caracteriza-se por anomalias no fígado, coração, olhos, face e esqueleto.',\n",
              "  'é uma doença autossômica dominante que acomete 1 a cada 30 mil nascidos vivos, atingindo igualmente ambos os sexos. Está relacionada a defeito no gene JAGGED12. Caracteriza-se por anomalias no fígado, coração, olhos, face e esqueleto.']}"
            ]
          },
          "metadata": {},
          "execution_count": 3
        }
      ]
    },
    {
      "cell_type": "code",
      "source": [
        "import pandas as pd\n",
        "\n",
        "gene = pd.DataFrame(gene_dic)\n",
        "display(gene)"
      ],
      "metadata": {
        "colab": {
          "base_uri": "https://localhost:8080/",
          "height": 519
        },
        "id": "f7efJfcSzbeg",
        "outputId": "f10a5d01-7a43-40c4-e980-a2783fcaf0c5"
      },
      "execution_count": 4,
      "outputs": [
        {
          "output_type": "display_data",
          "data": {
            "text/plain": [
              "                            Genes Localização Cromossômica  \\\n",
              "0                            TBX1                  22Q11.2   \n",
              "1                CRKL, ERK2/MAPK1                 22q11.22   \n",
              "2                            GJA5                   1q21.1   \n",
              "3                          PRDM16                  1P36.32   \n",
              "4                           GATA4                   8p23.1   \n",
              "5                   WHSC1, FGFRL1                   4p16.3   \n",
              "6                       ELN, WSTF                  7q11.23   \n",
              "7                   EHMT1, NOTCH1                   9q34.3   \n",
              "8                    PTPN11 (50%)                 12q24.12   \n",
              "9   RIT1 (alta incidência de DCC)                     1q22   \n",
              "10                           RBPJ                   4p12.2   \n",
              "11                         NOTCH1                   9q34.3   \n",
              "12                           TBX5                 12q24.21   \n",
              "13                           JAG1                  20p12.2   \n",
              "14                         NOTCH2                     1p12   \n",
              "\n",
              "                        Condições  \\\n",
              "0   Deleção/Duplicação de 22q11.2   \n",
              "1               22q11.2del distal   \n",
              "2    Deleção/Duplicação de 1q21.1   \n",
              "3                         1p36del   \n",
              "4                       8P23.1DEL   \n",
              "5     Síndrome de Wolf-Hirschhorn   \n",
              "6     Síndrome de Williams Beuren   \n",
              "7           Síndrome de Kleefstra   \n",
              "8              Síndrome de Noonan   \n",
              "9              Síndrome de Noonan   \n",
              "10       Síndrome de Adams Oliver   \n",
              "11       Síndrome de Adams Oliver   \n",
              "12          Síndrome de Holt-Oram   \n",
              "13           Síndrome de Alagille   \n",
              "14           Síndrome de Alagille   \n",
              "\n",
              "                                            Descrição  \n",
              "0   também conhecida como Síndrome DiGeorge ou vel...  \n",
              "1   Indivíduos com síndrome de deleção 22q11.2 (22...  \n",
              "2   é uma síndrome de deleção recorrente recém-des...  \n",
              "3   é um distúrbio que geralmente causa deficiênci...  \n",
              "4   A Trissomia do Cromossomo 8 em Moisaico é defi...  \n",
              "5   Doença do desenvolvimento caracterizada por ca...  \n",
              "6   é uma doença multissistêmica, devido a alteraç...  \n",
              "7   é uma doença genética caracterizada por défice...  \n",
              "8   é uma doença geneticamente heterogênea, caract...  \n",
              "9   é uma doença geneticamente heterogênea, caract...  \n",
              "10  é uma anomalia complexa, congênita e rara, car...  \n",
              "11  é uma anomalia complexa, congênita e rara, car...  \n",
              "12  trata-se de uma desordem cardíaca, genética, q...  \n",
              "13  é uma doença autossômica dominante que acomete...  \n",
              "14  é uma doença autossômica dominante que acomete...  "
            ],
            "text/html": [
              "\n",
              "  <div id=\"df-bd54b5b4-a661-4f53-8b65-d59f572bf0ef\">\n",
              "    <div class=\"colab-df-container\">\n",
              "      <div>\n",
              "<style scoped>\n",
              "    .dataframe tbody tr th:only-of-type {\n",
              "        vertical-align: middle;\n",
              "    }\n",
              "\n",
              "    .dataframe tbody tr th {\n",
              "        vertical-align: top;\n",
              "    }\n",
              "\n",
              "    .dataframe thead th {\n",
              "        text-align: right;\n",
              "    }\n",
              "</style>\n",
              "<table border=\"1\" class=\"dataframe\">\n",
              "  <thead>\n",
              "    <tr style=\"text-align: right;\">\n",
              "      <th></th>\n",
              "      <th>Genes</th>\n",
              "      <th>Localização Cromossômica</th>\n",
              "      <th>Condições</th>\n",
              "      <th>Descrição</th>\n",
              "    </tr>\n",
              "  </thead>\n",
              "  <tbody>\n",
              "    <tr>\n",
              "      <th>0</th>\n",
              "      <td>TBX1</td>\n",
              "      <td>22Q11.2</td>\n",
              "      <td>Deleção/Duplicação de 22q11.2</td>\n",
              "      <td>também conhecida como Síndrome DiGeorge ou vel...</td>\n",
              "    </tr>\n",
              "    <tr>\n",
              "      <th>1</th>\n",
              "      <td>CRKL, ERK2/MAPK1</td>\n",
              "      <td>22q11.22</td>\n",
              "      <td>22q11.2del distal</td>\n",
              "      <td>Indivíduos com síndrome de deleção 22q11.2 (22...</td>\n",
              "    </tr>\n",
              "    <tr>\n",
              "      <th>2</th>\n",
              "      <td>GJA5</td>\n",
              "      <td>1q21.1</td>\n",
              "      <td>Deleção/Duplicação de 1q21.1</td>\n",
              "      <td>é uma síndrome de deleção recorrente recém-des...</td>\n",
              "    </tr>\n",
              "    <tr>\n",
              "      <th>3</th>\n",
              "      <td>PRDM16</td>\n",
              "      <td>1P36.32</td>\n",
              "      <td>1p36del</td>\n",
              "      <td>é um distúrbio que geralmente causa deficiênci...</td>\n",
              "    </tr>\n",
              "    <tr>\n",
              "      <th>4</th>\n",
              "      <td>GATA4</td>\n",
              "      <td>8p23.1</td>\n",
              "      <td>8P23.1DEL</td>\n",
              "      <td>A Trissomia do Cromossomo 8 em Moisaico é defi...</td>\n",
              "    </tr>\n",
              "    <tr>\n",
              "      <th>5</th>\n",
              "      <td>WHSC1, FGFRL1</td>\n",
              "      <td>4p16.3</td>\n",
              "      <td>Síndrome de Wolf-Hirschhorn</td>\n",
              "      <td>Doença do desenvolvimento caracterizada por ca...</td>\n",
              "    </tr>\n",
              "    <tr>\n",
              "      <th>6</th>\n",
              "      <td>ELN, WSTF</td>\n",
              "      <td>7q11.23</td>\n",
              "      <td>Síndrome de Williams Beuren</td>\n",
              "      <td>é uma doença multissistêmica, devido a alteraç...</td>\n",
              "    </tr>\n",
              "    <tr>\n",
              "      <th>7</th>\n",
              "      <td>EHMT1, NOTCH1</td>\n",
              "      <td>9q34.3</td>\n",
              "      <td>Síndrome de Kleefstra</td>\n",
              "      <td>é uma doença genética caracterizada por défice...</td>\n",
              "    </tr>\n",
              "    <tr>\n",
              "      <th>8</th>\n",
              "      <td>PTPN11 (50%)</td>\n",
              "      <td>12q24.12</td>\n",
              "      <td>Síndrome de Noonan</td>\n",
              "      <td>é uma doença geneticamente heterogênea, caract...</td>\n",
              "    </tr>\n",
              "    <tr>\n",
              "      <th>9</th>\n",
              "      <td>RIT1 (alta incidência de DCC)</td>\n",
              "      <td>1q22</td>\n",
              "      <td>Síndrome de Noonan</td>\n",
              "      <td>é uma doença geneticamente heterogênea, caract...</td>\n",
              "    </tr>\n",
              "    <tr>\n",
              "      <th>10</th>\n",
              "      <td>RBPJ</td>\n",
              "      <td>4p12.2</td>\n",
              "      <td>Síndrome de Adams Oliver</td>\n",
              "      <td>é uma anomalia complexa, congênita e rara, car...</td>\n",
              "    </tr>\n",
              "    <tr>\n",
              "      <th>11</th>\n",
              "      <td>NOTCH1</td>\n",
              "      <td>9q34.3</td>\n",
              "      <td>Síndrome de Adams Oliver</td>\n",
              "      <td>é uma anomalia complexa, congênita e rara, car...</td>\n",
              "    </tr>\n",
              "    <tr>\n",
              "      <th>12</th>\n",
              "      <td>TBX5</td>\n",
              "      <td>12q24.21</td>\n",
              "      <td>Síndrome de Holt-Oram</td>\n",
              "      <td>trata-se de uma desordem cardíaca, genética, q...</td>\n",
              "    </tr>\n",
              "    <tr>\n",
              "      <th>13</th>\n",
              "      <td>JAG1</td>\n",
              "      <td>20p12.2</td>\n",
              "      <td>Síndrome de Alagille</td>\n",
              "      <td>é uma doença autossômica dominante que acomete...</td>\n",
              "    </tr>\n",
              "    <tr>\n",
              "      <th>14</th>\n",
              "      <td>NOTCH2</td>\n",
              "      <td>1p12</td>\n",
              "      <td>Síndrome de Alagille</td>\n",
              "      <td>é uma doença autossômica dominante que acomete...</td>\n",
              "    </tr>\n",
              "  </tbody>\n",
              "</table>\n",
              "</div>\n",
              "      <button class=\"colab-df-convert\" onclick=\"convertToInteractive('df-bd54b5b4-a661-4f53-8b65-d59f572bf0ef')\"\n",
              "              title=\"Convert this dataframe to an interactive table.\"\n",
              "              style=\"display:none;\">\n",
              "        \n",
              "  <svg xmlns=\"http://www.w3.org/2000/svg\" height=\"24px\"viewBox=\"0 0 24 24\"\n",
              "       width=\"24px\">\n",
              "    <path d=\"M0 0h24v24H0V0z\" fill=\"none\"/>\n",
              "    <path d=\"M18.56 5.44l.94 2.06.94-2.06 2.06-.94-2.06-.94-.94-2.06-.94 2.06-2.06.94zm-11 1L8.5 8.5l.94-2.06 2.06-.94-2.06-.94L8.5 2.5l-.94 2.06-2.06.94zm10 10l.94 2.06.94-2.06 2.06-.94-2.06-.94-.94-2.06-.94 2.06-2.06.94z\"/><path d=\"M17.41 7.96l-1.37-1.37c-.4-.4-.92-.59-1.43-.59-.52 0-1.04.2-1.43.59L10.3 9.45l-7.72 7.72c-.78.78-.78 2.05 0 2.83L4 21.41c.39.39.9.59 1.41.59.51 0 1.02-.2 1.41-.59l7.78-7.78 2.81-2.81c.8-.78.8-2.07 0-2.86zM5.41 20L4 18.59l7.72-7.72 1.47 1.35L5.41 20z\"/>\n",
              "  </svg>\n",
              "      </button>\n",
              "      \n",
              "  <style>\n",
              "    .colab-df-container {\n",
              "      display:flex;\n",
              "      flex-wrap:wrap;\n",
              "      gap: 12px;\n",
              "    }\n",
              "\n",
              "    .colab-df-convert {\n",
              "      background-color: #E8F0FE;\n",
              "      border: none;\n",
              "      border-radius: 50%;\n",
              "      cursor: pointer;\n",
              "      display: none;\n",
              "      fill: #1967D2;\n",
              "      height: 32px;\n",
              "      padding: 0 0 0 0;\n",
              "      width: 32px;\n",
              "    }\n",
              "\n",
              "    .colab-df-convert:hover {\n",
              "      background-color: #E2EBFA;\n",
              "      box-shadow: 0px 1px 2px rgba(60, 64, 67, 0.3), 0px 1px 3px 1px rgba(60, 64, 67, 0.15);\n",
              "      fill: #174EA6;\n",
              "    }\n",
              "\n",
              "    [theme=dark] .colab-df-convert {\n",
              "      background-color: #3B4455;\n",
              "      fill: #D2E3FC;\n",
              "    }\n",
              "\n",
              "    [theme=dark] .colab-df-convert:hover {\n",
              "      background-color: #434B5C;\n",
              "      box-shadow: 0px 1px 3px 1px rgba(0, 0, 0, 0.15);\n",
              "      filter: drop-shadow(0px 1px 2px rgba(0, 0, 0, 0.3));\n",
              "      fill: #FFFFFF;\n",
              "    }\n",
              "  </style>\n",
              "\n",
              "      <script>\n",
              "        const buttonEl =\n",
              "          document.querySelector('#df-bd54b5b4-a661-4f53-8b65-d59f572bf0ef button.colab-df-convert');\n",
              "        buttonEl.style.display =\n",
              "          google.colab.kernel.accessAllowed ? 'block' : 'none';\n",
              "\n",
              "        async function convertToInteractive(key) {\n",
              "          const element = document.querySelector('#df-bd54b5b4-a661-4f53-8b65-d59f572bf0ef');\n",
              "          const dataTable =\n",
              "            await google.colab.kernel.invokeFunction('convertToInteractive',\n",
              "                                                     [key], {});\n",
              "          if (!dataTable) return;\n",
              "\n",
              "          const docLinkHtml = 'Like what you see? Visit the ' +\n",
              "            '<a target=\"_blank\" href=https://colab.research.google.com/notebooks/data_table.ipynb>data table notebook</a>'\n",
              "            + ' to learn more about interactive tables.';\n",
              "          element.innerHTML = '';\n",
              "          dataTable['output_type'] = 'display_data';\n",
              "          await google.colab.output.renderOutput(dataTable, element);\n",
              "          const docLink = document.createElement('div');\n",
              "          docLink.innerHTML = docLinkHtml;\n",
              "          element.appendChild(docLink);\n",
              "        }\n",
              "      </script>\n",
              "    </div>\n",
              "  </div>\n",
              "  "
            ]
          },
          "metadata": {}
        }
      ]
    },
    {
      "cell_type": "code",
      "source": [
        "import nltk\n",
        "from nltk.corpus import stopwords\n",
        "from nltk.tokenize import word_tokenize"
      ],
      "metadata": {
        "id": "my_9FG0UzlTh"
      },
      "execution_count": 5,
      "outputs": []
    },
    {
      "cell_type": "code",
      "source": [
        "nltk.download('all')"
      ],
      "metadata": {
        "colab": {
          "base_uri": "https://localhost:8080/"
        },
        "id": "cT_YUuspz0GJ",
        "outputId": "dccc3f55-2ff2-4ffa-eab6-1a267f6b0b57"
      },
      "execution_count": 6,
      "outputs": [
        {
          "output_type": "stream",
          "name": "stderr",
          "text": [
            "[nltk_data] Downloading collection 'all'\n",
            "[nltk_data]    | \n",
            "[nltk_data]    | Downloading package abc to /root/nltk_data...\n",
            "[nltk_data]    |   Package abc is already up-to-date!\n",
            "[nltk_data]    | Downloading package alpino to /root/nltk_data...\n",
            "[nltk_data]    |   Package alpino is already up-to-date!\n",
            "[nltk_data]    | Downloading package averaged_perceptron_tagger to\n",
            "[nltk_data]    |     /root/nltk_data...\n",
            "[nltk_data]    |   Package averaged_perceptron_tagger is already up-\n",
            "[nltk_data]    |       to-date!\n",
            "[nltk_data]    | Downloading package averaged_perceptron_tagger_ru to\n",
            "[nltk_data]    |     /root/nltk_data...\n",
            "[nltk_data]    |   Package averaged_perceptron_tagger_ru is already\n",
            "[nltk_data]    |       up-to-date!\n",
            "[nltk_data]    | Downloading package basque_grammars to\n",
            "[nltk_data]    |     /root/nltk_data...\n",
            "[nltk_data]    |   Package basque_grammars is already up-to-date!\n",
            "[nltk_data]    | Downloading package bcp47 to /root/nltk_data...\n",
            "[nltk_data]    |   Package bcp47 is already up-to-date!\n",
            "[nltk_data]    | Downloading package biocreative_ppi to\n",
            "[nltk_data]    |     /root/nltk_data...\n",
            "[nltk_data]    |   Package biocreative_ppi is already up-to-date!\n",
            "[nltk_data]    | Downloading package bllip_wsj_no_aux to\n",
            "[nltk_data]    |     /root/nltk_data...\n",
            "[nltk_data]    |   Package bllip_wsj_no_aux is already up-to-date!\n",
            "[nltk_data]    | Downloading package book_grammars to\n",
            "[nltk_data]    |     /root/nltk_data...\n",
            "[nltk_data]    |   Package book_grammars is already up-to-date!\n",
            "[nltk_data]    | Downloading package brown to /root/nltk_data...\n",
            "[nltk_data]    |   Package brown is already up-to-date!\n",
            "[nltk_data]    | Downloading package brown_tei to /root/nltk_data...\n",
            "[nltk_data]    |   Package brown_tei is already up-to-date!\n",
            "[nltk_data]    | Downloading package cess_cat to /root/nltk_data...\n",
            "[nltk_data]    |   Package cess_cat is already up-to-date!\n",
            "[nltk_data]    | Downloading package cess_esp to /root/nltk_data...\n",
            "[nltk_data]    |   Package cess_esp is already up-to-date!\n",
            "[nltk_data]    | Downloading package chat80 to /root/nltk_data...\n",
            "[nltk_data]    |   Package chat80 is already up-to-date!\n",
            "[nltk_data]    | Downloading package city_database to\n",
            "[nltk_data]    |     /root/nltk_data...\n",
            "[nltk_data]    |   Package city_database is already up-to-date!\n",
            "[nltk_data]    | Downloading package cmudict to /root/nltk_data...\n",
            "[nltk_data]    |   Package cmudict is already up-to-date!\n",
            "[nltk_data]    | Downloading package comparative_sentences to\n",
            "[nltk_data]    |     /root/nltk_data...\n",
            "[nltk_data]    |   Package comparative_sentences is already up-to-\n",
            "[nltk_data]    |       date!\n",
            "[nltk_data]    | Downloading package comtrans to /root/nltk_data...\n",
            "[nltk_data]    |   Package comtrans is already up-to-date!\n",
            "[nltk_data]    | Downloading package conll2000 to /root/nltk_data...\n",
            "[nltk_data]    |   Package conll2000 is already up-to-date!\n",
            "[nltk_data]    | Downloading package conll2002 to /root/nltk_data...\n",
            "[nltk_data]    |   Package conll2002 is already up-to-date!\n",
            "[nltk_data]    | Downloading package conll2007 to /root/nltk_data...\n",
            "[nltk_data]    |   Package conll2007 is already up-to-date!\n",
            "[nltk_data]    | Downloading package crubadan to /root/nltk_data...\n",
            "[nltk_data]    |   Package crubadan is already up-to-date!\n",
            "[nltk_data]    | Downloading package dependency_treebank to\n",
            "[nltk_data]    |     /root/nltk_data...\n",
            "[nltk_data]    |   Package dependency_treebank is already up-to-date!\n",
            "[nltk_data]    | Downloading package dolch to /root/nltk_data...\n",
            "[nltk_data]    |   Package dolch is already up-to-date!\n",
            "[nltk_data]    | Downloading package europarl_raw to\n",
            "[nltk_data]    |     /root/nltk_data...\n",
            "[nltk_data]    |   Package europarl_raw is already up-to-date!\n",
            "[nltk_data]    | Downloading package extended_omw to\n",
            "[nltk_data]    |     /root/nltk_data...\n",
            "[nltk_data]    |   Package extended_omw is already up-to-date!\n",
            "[nltk_data]    | Downloading package floresta to /root/nltk_data...\n",
            "[nltk_data]    |   Package floresta is already up-to-date!\n",
            "[nltk_data]    | Downloading package framenet_v15 to\n",
            "[nltk_data]    |     /root/nltk_data...\n",
            "[nltk_data]    |   Package framenet_v15 is already up-to-date!\n",
            "[nltk_data]    | Downloading package framenet_v17 to\n",
            "[nltk_data]    |     /root/nltk_data...\n",
            "[nltk_data]    |   Package framenet_v17 is already up-to-date!\n",
            "[nltk_data]    | Downloading package gazetteers to /root/nltk_data...\n",
            "[nltk_data]    |   Package gazetteers is already up-to-date!\n",
            "[nltk_data]    | Downloading package genesis to /root/nltk_data...\n",
            "[nltk_data]    |   Package genesis is already up-to-date!\n",
            "[nltk_data]    | Downloading package gutenberg to /root/nltk_data...\n",
            "[nltk_data]    |   Package gutenberg is already up-to-date!\n",
            "[nltk_data]    | Downloading package ieer to /root/nltk_data...\n",
            "[nltk_data]    |   Package ieer is already up-to-date!\n",
            "[nltk_data]    | Downloading package inaugural to /root/nltk_data...\n",
            "[nltk_data]    |   Package inaugural is already up-to-date!\n",
            "[nltk_data]    | Downloading package indian to /root/nltk_data...\n",
            "[nltk_data]    |   Package indian is already up-to-date!\n",
            "[nltk_data]    | Downloading package jeita to /root/nltk_data...\n",
            "[nltk_data]    |   Package jeita is already up-to-date!\n",
            "[nltk_data]    | Downloading package kimmo to /root/nltk_data...\n",
            "[nltk_data]    |   Package kimmo is already up-to-date!\n",
            "[nltk_data]    | Downloading package knbc to /root/nltk_data...\n",
            "[nltk_data]    |   Package knbc is already up-to-date!\n",
            "[nltk_data]    | Downloading package large_grammars to\n",
            "[nltk_data]    |     /root/nltk_data...\n",
            "[nltk_data]    |   Package large_grammars is already up-to-date!\n",
            "[nltk_data]    | Downloading package lin_thesaurus to\n",
            "[nltk_data]    |     /root/nltk_data...\n",
            "[nltk_data]    |   Package lin_thesaurus is already up-to-date!\n",
            "[nltk_data]    | Downloading package mac_morpho to /root/nltk_data...\n",
            "[nltk_data]    |   Package mac_morpho is already up-to-date!\n",
            "[nltk_data]    | Downloading package machado to /root/nltk_data...\n",
            "[nltk_data]    |   Package machado is already up-to-date!\n",
            "[nltk_data]    | Downloading package masc_tagged to /root/nltk_data...\n",
            "[nltk_data]    |   Package masc_tagged is already up-to-date!\n",
            "[nltk_data]    | Downloading package maxent_ne_chunker to\n",
            "[nltk_data]    |     /root/nltk_data...\n",
            "[nltk_data]    |   Package maxent_ne_chunker is already up-to-date!\n",
            "[nltk_data]    | Downloading package maxent_treebank_pos_tagger to\n",
            "[nltk_data]    |     /root/nltk_data...\n",
            "[nltk_data]    |   Package maxent_treebank_pos_tagger is already up-\n",
            "[nltk_data]    |       to-date!\n",
            "[nltk_data]    | Downloading package moses_sample to\n",
            "[nltk_data]    |     /root/nltk_data...\n",
            "[nltk_data]    |   Package moses_sample is already up-to-date!\n",
            "[nltk_data]    | Downloading package movie_reviews to\n",
            "[nltk_data]    |     /root/nltk_data...\n",
            "[nltk_data]    |   Package movie_reviews is already up-to-date!\n",
            "[nltk_data]    | Downloading package mte_teip5 to /root/nltk_data...\n",
            "[nltk_data]    |   Package mte_teip5 is already up-to-date!\n",
            "[nltk_data]    | Downloading package mwa_ppdb to /root/nltk_data...\n",
            "[nltk_data]    |   Package mwa_ppdb is already up-to-date!\n",
            "[nltk_data]    | Downloading package names to /root/nltk_data...\n",
            "[nltk_data]    |   Package names is already up-to-date!\n",
            "[nltk_data]    | Downloading package nombank.1.0 to /root/nltk_data...\n",
            "[nltk_data]    |   Package nombank.1.0 is already up-to-date!\n",
            "[nltk_data]    | Downloading package nonbreaking_prefixes to\n",
            "[nltk_data]    |     /root/nltk_data...\n",
            "[nltk_data]    |   Package nonbreaking_prefixes is already up-to-date!\n",
            "[nltk_data]    | Downloading package nps_chat to /root/nltk_data...\n",
            "[nltk_data]    |   Package nps_chat is already up-to-date!\n",
            "[nltk_data]    | Downloading package omw to /root/nltk_data...\n",
            "[nltk_data]    |   Package omw is already up-to-date!\n",
            "[nltk_data]    | Downloading package omw-1.4 to /root/nltk_data...\n",
            "[nltk_data]    |   Package omw-1.4 is already up-to-date!\n",
            "[nltk_data]    | Downloading package opinion_lexicon to\n",
            "[nltk_data]    |     /root/nltk_data...\n",
            "[nltk_data]    |   Package opinion_lexicon is already up-to-date!\n",
            "[nltk_data]    | Downloading package panlex_swadesh to\n",
            "[nltk_data]    |     /root/nltk_data...\n",
            "[nltk_data]    |   Package panlex_swadesh is already up-to-date!\n",
            "[nltk_data]    | Downloading package paradigms to /root/nltk_data...\n",
            "[nltk_data]    |   Package paradigms is already up-to-date!\n",
            "[nltk_data]    | Downloading package pe08 to /root/nltk_data...\n",
            "[nltk_data]    |   Package pe08 is already up-to-date!\n",
            "[nltk_data]    | Downloading package perluniprops to\n",
            "[nltk_data]    |     /root/nltk_data...\n",
            "[nltk_data]    |   Package perluniprops is already up-to-date!\n",
            "[nltk_data]    | Downloading package pil to /root/nltk_data...\n",
            "[nltk_data]    |   Package pil is already up-to-date!\n",
            "[nltk_data]    | Downloading package pl196x to /root/nltk_data...\n",
            "[nltk_data]    |   Package pl196x is already up-to-date!\n",
            "[nltk_data]    | Downloading package porter_test to /root/nltk_data...\n",
            "[nltk_data]    |   Package porter_test is already up-to-date!\n",
            "[nltk_data]    | Downloading package ppattach to /root/nltk_data...\n",
            "[nltk_data]    |   Package ppattach is already up-to-date!\n",
            "[nltk_data]    | Downloading package problem_reports to\n",
            "[nltk_data]    |     /root/nltk_data...\n",
            "[nltk_data]    |   Package problem_reports is already up-to-date!\n",
            "[nltk_data]    | Downloading package product_reviews_1 to\n",
            "[nltk_data]    |     /root/nltk_data...\n",
            "[nltk_data]    |   Package product_reviews_1 is already up-to-date!\n",
            "[nltk_data]    | Downloading package product_reviews_2 to\n",
            "[nltk_data]    |     /root/nltk_data...\n",
            "[nltk_data]    |   Package product_reviews_2 is already up-to-date!\n",
            "[nltk_data]    | Downloading package propbank to /root/nltk_data...\n",
            "[nltk_data]    |   Package propbank is already up-to-date!\n",
            "[nltk_data]    | Downloading package pros_cons to /root/nltk_data...\n",
            "[nltk_data]    |   Package pros_cons is already up-to-date!\n",
            "[nltk_data]    | Downloading package ptb to /root/nltk_data...\n",
            "[nltk_data]    |   Package ptb is already up-to-date!\n",
            "[nltk_data]    | Downloading package punkt to /root/nltk_data...\n",
            "[nltk_data]    |   Package punkt is already up-to-date!\n",
            "[nltk_data]    | Downloading package qc to /root/nltk_data...\n",
            "[nltk_data]    |   Package qc is already up-to-date!\n",
            "[nltk_data]    | Downloading package reuters to /root/nltk_data...\n",
            "[nltk_data]    |   Package reuters is already up-to-date!\n",
            "[nltk_data]    | Downloading package rslp to /root/nltk_data...\n",
            "[nltk_data]    |   Package rslp is already up-to-date!\n",
            "[nltk_data]    | Downloading package rte to /root/nltk_data...\n",
            "[nltk_data]    |   Package rte is already up-to-date!\n",
            "[nltk_data]    | Downloading package sample_grammars to\n",
            "[nltk_data]    |     /root/nltk_data...\n",
            "[nltk_data]    |   Package sample_grammars is already up-to-date!\n",
            "[nltk_data]    | Downloading package semcor to /root/nltk_data...\n",
            "[nltk_data]    |   Package semcor is already up-to-date!\n",
            "[nltk_data]    | Downloading package senseval to /root/nltk_data...\n",
            "[nltk_data]    |   Package senseval is already up-to-date!\n",
            "[nltk_data]    | Downloading package sentence_polarity to\n",
            "[nltk_data]    |     /root/nltk_data...\n",
            "[nltk_data]    |   Package sentence_polarity is already up-to-date!\n",
            "[nltk_data]    | Downloading package sentiwordnet to\n",
            "[nltk_data]    |     /root/nltk_data...\n",
            "[nltk_data]    |   Package sentiwordnet is already up-to-date!\n",
            "[nltk_data]    | Downloading package shakespeare to /root/nltk_data...\n",
            "[nltk_data]    |   Package shakespeare is already up-to-date!\n",
            "[nltk_data]    | Downloading package sinica_treebank to\n",
            "[nltk_data]    |     /root/nltk_data...\n",
            "[nltk_data]    |   Package sinica_treebank is already up-to-date!\n",
            "[nltk_data]    | Downloading package smultron to /root/nltk_data...\n",
            "[nltk_data]    |   Package smultron is already up-to-date!\n",
            "[nltk_data]    | Downloading package snowball_data to\n",
            "[nltk_data]    |     /root/nltk_data...\n",
            "[nltk_data]    |   Package snowball_data is already up-to-date!\n",
            "[nltk_data]    | Downloading package spanish_grammars to\n",
            "[nltk_data]    |     /root/nltk_data...\n",
            "[nltk_data]    |   Package spanish_grammars is already up-to-date!\n",
            "[nltk_data]    | Downloading package state_union to /root/nltk_data...\n",
            "[nltk_data]    |   Package state_union is already up-to-date!\n",
            "[nltk_data]    | Downloading package stopwords to /root/nltk_data...\n",
            "[nltk_data]    |   Package stopwords is already up-to-date!\n",
            "[nltk_data]    | Downloading package subjectivity to\n",
            "[nltk_data]    |     /root/nltk_data...\n",
            "[nltk_data]    |   Package subjectivity is already up-to-date!\n",
            "[nltk_data]    | Downloading package swadesh to /root/nltk_data...\n",
            "[nltk_data]    |   Package swadesh is already up-to-date!\n",
            "[nltk_data]    | Downloading package switchboard to /root/nltk_data...\n",
            "[nltk_data]    |   Package switchboard is already up-to-date!\n",
            "[nltk_data]    | Downloading package tagsets to /root/nltk_data...\n",
            "[nltk_data]    |   Package tagsets is already up-to-date!\n",
            "[nltk_data]    | Downloading package timit to /root/nltk_data...\n",
            "[nltk_data]    |   Package timit is already up-to-date!\n",
            "[nltk_data]    | Downloading package toolbox to /root/nltk_data...\n",
            "[nltk_data]    |   Package toolbox is already up-to-date!\n",
            "[nltk_data]    | Downloading package treebank to /root/nltk_data...\n",
            "[nltk_data]    |   Package treebank is already up-to-date!\n",
            "[nltk_data]    | Downloading package twitter_samples to\n",
            "[nltk_data]    |     /root/nltk_data...\n",
            "[nltk_data]    |   Package twitter_samples is already up-to-date!\n",
            "[nltk_data]    | Downloading package udhr to /root/nltk_data...\n",
            "[nltk_data]    |   Package udhr is already up-to-date!\n",
            "[nltk_data]    | Downloading package udhr2 to /root/nltk_data...\n",
            "[nltk_data]    |   Package udhr2 is already up-to-date!\n",
            "[nltk_data]    | Downloading package unicode_samples to\n",
            "[nltk_data]    |     /root/nltk_data...\n",
            "[nltk_data]    |   Package unicode_samples is already up-to-date!\n",
            "[nltk_data]    | Downloading package universal_tagset to\n",
            "[nltk_data]    |     /root/nltk_data...\n",
            "[nltk_data]    |   Package universal_tagset is already up-to-date!\n",
            "[nltk_data]    | Downloading package universal_treebanks_v20 to\n",
            "[nltk_data]    |     /root/nltk_data...\n",
            "[nltk_data]    |   Package universal_treebanks_v20 is already up-to-\n",
            "[nltk_data]    |       date!\n",
            "[nltk_data]    | Downloading package vader_lexicon to\n",
            "[nltk_data]    |     /root/nltk_data...\n",
            "[nltk_data]    |   Package vader_lexicon is already up-to-date!\n",
            "[nltk_data]    | Downloading package verbnet to /root/nltk_data...\n",
            "[nltk_data]    |   Package verbnet is already up-to-date!\n",
            "[nltk_data]    | Downloading package verbnet3 to /root/nltk_data...\n",
            "[nltk_data]    |   Package verbnet3 is already up-to-date!\n",
            "[nltk_data]    | Downloading package webtext to /root/nltk_data...\n",
            "[nltk_data]    |   Package webtext is already up-to-date!\n",
            "[nltk_data]    | Downloading package wmt15_eval to /root/nltk_data...\n",
            "[nltk_data]    |   Package wmt15_eval is already up-to-date!\n",
            "[nltk_data]    | Downloading package word2vec_sample to\n",
            "[nltk_data]    |     /root/nltk_data...\n",
            "[nltk_data]    |   Package word2vec_sample is already up-to-date!\n",
            "[nltk_data]    | Downloading package wordnet to /root/nltk_data...\n",
            "[nltk_data]    |   Package wordnet is already up-to-date!\n",
            "[nltk_data]    | Downloading package wordnet2021 to /root/nltk_data...\n",
            "[nltk_data]    |   Package wordnet2021 is already up-to-date!\n",
            "[nltk_data]    | Downloading package wordnet2022 to /root/nltk_data...\n",
            "[nltk_data]    |   Package wordnet2022 is already up-to-date!\n",
            "[nltk_data]    | Downloading package wordnet31 to /root/nltk_data...\n",
            "[nltk_data]    |   Package wordnet31 is already up-to-date!\n",
            "[nltk_data]    | Downloading package wordnet_ic to /root/nltk_data...\n",
            "[nltk_data]    |   Package wordnet_ic is already up-to-date!\n",
            "[nltk_data]    | Downloading package words to /root/nltk_data...\n",
            "[nltk_data]    |   Package words is already up-to-date!\n",
            "[nltk_data]    | Downloading package ycoe to /root/nltk_data...\n",
            "[nltk_data]    |   Package ycoe is already up-to-date!\n",
            "[nltk_data]    | \n",
            "[nltk_data]  Done downloading collection all\n"
          ]
        },
        {
          "output_type": "execute_result",
          "data": {
            "text/plain": [
              "True"
            ]
          },
          "metadata": {},
          "execution_count": 6
        }
      ]
    },
    {
      "cell_type": "code",
      "source": [
        "# split da coluna Descrição\n",
        "\n",
        "tokens = set(gene['Descrição'])\n",
        "token = sorted(tokens)"
      ],
      "metadata": {
        "id": "eGPqX3TkIyRC"
      },
      "execution_count": 7,
      "outputs": []
    },
    {
      "cell_type": "code",
      "source": [
        "type(str(token))"
      ],
      "metadata": {
        "colab": {
          "base_uri": "https://localhost:8080/"
        },
        "id": "XiZr9iGNPGNP",
        "outputId": "ccc62856-4f5a-4334-8910-3a730bb4ce8a"
      },
      "execution_count": 8,
      "outputs": [
        {
          "output_type": "execute_result",
          "data": {
            "text/plain": [
              "str"
            ]
          },
          "metadata": {},
          "execution_count": 8
        }
      ]
    },
    {
      "cell_type": "code",
      "source": [
        "for token in tokens:\n",
        "  token = str(token.split())"
      ],
      "metadata": {
        "id": "wdZmKBE_OwrU"
      },
      "execution_count": 9,
      "outputs": []
    },
    {
      "cell_type": "markdown",
      "source": [
        "Com o código a baixo podemos observar que criamos uma coluna com o texto presente na coluna `Descrição` dividindo-o em palavras separadas (`split`).\n",
        "\n",
        "Isso é importante para podermos tratar o texto."
      ],
      "metadata": {
        "id": "u9gZmUBhQUIK"
      }
    },
    {
      "cell_type": "code",
      "source": [
        "# adicionando o split do texto em uma nova coluna do dataframe do pandas, utilizando uma list comprehension\n",
        "\n",
        "gene['Descrição Split'] = [str(token.split() and token.lower()) for token in gene['Descrição']]\n",
        "gene.head()"
      ],
      "metadata": {
        "colab": {
          "base_uri": "https://localhost:8080/",
          "height": 354
        },
        "id": "d3h5OCJSPPIu",
        "outputId": "32288132-1a72-41bb-955b-49dc253c4387"
      },
      "execution_count": 46,
      "outputs": [
        {
          "output_type": "execute_result",
          "data": {
            "text/plain": [
              "              Genes Localização Cromossômica                      Condições  \\\n",
              "0              TBX1                  22Q11.2  Deleção/Duplicação de 22q11.2   \n",
              "1  CRKL, ERK2/MAPK1                 22q11.22              22q11.2del distal   \n",
              "2              GJA5                   1q21.1   Deleção/Duplicação de 1q21.1   \n",
              "3            PRDM16                  1P36.32                        1p36del   \n",
              "4             GATA4                   8p23.1                      8P23.1DEL   \n",
              "\n",
              "                                           Descrição  \\\n",
              "0  também conhecida como Síndrome DiGeorge ou vel...   \n",
              "1  Indivíduos com síndrome de deleção 22q11.2 (22...   \n",
              "2  é uma síndrome de deleção recorrente recém-des...   \n",
              "3  é um distúrbio que geralmente causa deficiênci...   \n",
              "4  A Trissomia do Cromossomo 8 em Moisaico é defi...   \n",
              "\n",
              "                                     Descrição Split  \n",
              "0  também conhecida como síndrome digeorge ou vel...  \n",
              "1  indivíduos com síndrome de deleção 22q11.2 (22...  \n",
              "2  é uma síndrome de deleção recorrente recém-des...  \n",
              "3  é um distúrbio que geralmente causa deficiênci...  \n",
              "4  a trissomia do cromossomo 8 em moisaico é defi...  "
            ],
            "text/html": [
              "\n",
              "  <div id=\"df-47bafe66-6813-436f-8571-f196e05b2fb9\">\n",
              "    <div class=\"colab-df-container\">\n",
              "      <div>\n",
              "<style scoped>\n",
              "    .dataframe tbody tr th:only-of-type {\n",
              "        vertical-align: middle;\n",
              "    }\n",
              "\n",
              "    .dataframe tbody tr th {\n",
              "        vertical-align: top;\n",
              "    }\n",
              "\n",
              "    .dataframe thead th {\n",
              "        text-align: right;\n",
              "    }\n",
              "</style>\n",
              "<table border=\"1\" class=\"dataframe\">\n",
              "  <thead>\n",
              "    <tr style=\"text-align: right;\">\n",
              "      <th></th>\n",
              "      <th>Genes</th>\n",
              "      <th>Localização Cromossômica</th>\n",
              "      <th>Condições</th>\n",
              "      <th>Descrição</th>\n",
              "      <th>Descrição Split</th>\n",
              "    </tr>\n",
              "  </thead>\n",
              "  <tbody>\n",
              "    <tr>\n",
              "      <th>0</th>\n",
              "      <td>TBX1</td>\n",
              "      <td>22Q11.2</td>\n",
              "      <td>Deleção/Duplicação de 22q11.2</td>\n",
              "      <td>também conhecida como Síndrome DiGeorge ou vel...</td>\n",
              "      <td>também conhecida como síndrome digeorge ou vel...</td>\n",
              "    </tr>\n",
              "    <tr>\n",
              "      <th>1</th>\n",
              "      <td>CRKL, ERK2/MAPK1</td>\n",
              "      <td>22q11.22</td>\n",
              "      <td>22q11.2del distal</td>\n",
              "      <td>Indivíduos com síndrome de deleção 22q11.2 (22...</td>\n",
              "      <td>indivíduos com síndrome de deleção 22q11.2 (22...</td>\n",
              "    </tr>\n",
              "    <tr>\n",
              "      <th>2</th>\n",
              "      <td>GJA5</td>\n",
              "      <td>1q21.1</td>\n",
              "      <td>Deleção/Duplicação de 1q21.1</td>\n",
              "      <td>é uma síndrome de deleção recorrente recém-des...</td>\n",
              "      <td>é uma síndrome de deleção recorrente recém-des...</td>\n",
              "    </tr>\n",
              "    <tr>\n",
              "      <th>3</th>\n",
              "      <td>PRDM16</td>\n",
              "      <td>1P36.32</td>\n",
              "      <td>1p36del</td>\n",
              "      <td>é um distúrbio que geralmente causa deficiênci...</td>\n",
              "      <td>é um distúrbio que geralmente causa deficiênci...</td>\n",
              "    </tr>\n",
              "    <tr>\n",
              "      <th>4</th>\n",
              "      <td>GATA4</td>\n",
              "      <td>8p23.1</td>\n",
              "      <td>8P23.1DEL</td>\n",
              "      <td>A Trissomia do Cromossomo 8 em Moisaico é defi...</td>\n",
              "      <td>a trissomia do cromossomo 8 em moisaico é defi...</td>\n",
              "    </tr>\n",
              "  </tbody>\n",
              "</table>\n",
              "</div>\n",
              "      <button class=\"colab-df-convert\" onclick=\"convertToInteractive('df-47bafe66-6813-436f-8571-f196e05b2fb9')\"\n",
              "              title=\"Convert this dataframe to an interactive table.\"\n",
              "              style=\"display:none;\">\n",
              "        \n",
              "  <svg xmlns=\"http://www.w3.org/2000/svg\" height=\"24px\"viewBox=\"0 0 24 24\"\n",
              "       width=\"24px\">\n",
              "    <path d=\"M0 0h24v24H0V0z\" fill=\"none\"/>\n",
              "    <path d=\"M18.56 5.44l.94 2.06.94-2.06 2.06-.94-2.06-.94-.94-2.06-.94 2.06-2.06.94zm-11 1L8.5 8.5l.94-2.06 2.06-.94-2.06-.94L8.5 2.5l-.94 2.06-2.06.94zm10 10l.94 2.06.94-2.06 2.06-.94-2.06-.94-.94-2.06-.94 2.06-2.06.94z\"/><path d=\"M17.41 7.96l-1.37-1.37c-.4-.4-.92-.59-1.43-.59-.52 0-1.04.2-1.43.59L10.3 9.45l-7.72 7.72c-.78.78-.78 2.05 0 2.83L4 21.41c.39.39.9.59 1.41.59.51 0 1.02-.2 1.41-.59l7.78-7.78 2.81-2.81c.8-.78.8-2.07 0-2.86zM5.41 20L4 18.59l7.72-7.72 1.47 1.35L5.41 20z\"/>\n",
              "  </svg>\n",
              "      </button>\n",
              "      \n",
              "  <style>\n",
              "    .colab-df-container {\n",
              "      display:flex;\n",
              "      flex-wrap:wrap;\n",
              "      gap: 12px;\n",
              "    }\n",
              "\n",
              "    .colab-df-convert {\n",
              "      background-color: #E8F0FE;\n",
              "      border: none;\n",
              "      border-radius: 50%;\n",
              "      cursor: pointer;\n",
              "      display: none;\n",
              "      fill: #1967D2;\n",
              "      height: 32px;\n",
              "      padding: 0 0 0 0;\n",
              "      width: 32px;\n",
              "    }\n",
              "\n",
              "    .colab-df-convert:hover {\n",
              "      background-color: #E2EBFA;\n",
              "      box-shadow: 0px 1px 2px rgba(60, 64, 67, 0.3), 0px 1px 3px 1px rgba(60, 64, 67, 0.15);\n",
              "      fill: #174EA6;\n",
              "    }\n",
              "\n",
              "    [theme=dark] .colab-df-convert {\n",
              "      background-color: #3B4455;\n",
              "      fill: #D2E3FC;\n",
              "    }\n",
              "\n",
              "    [theme=dark] .colab-df-convert:hover {\n",
              "      background-color: #434B5C;\n",
              "      box-shadow: 0px 1px 3px 1px rgba(0, 0, 0, 0.15);\n",
              "      filter: drop-shadow(0px 1px 2px rgba(0, 0, 0, 0.3));\n",
              "      fill: #FFFFFF;\n",
              "    }\n",
              "  </style>\n",
              "\n",
              "      <script>\n",
              "        const buttonEl =\n",
              "          document.querySelector('#df-47bafe66-6813-436f-8571-f196e05b2fb9 button.colab-df-convert');\n",
              "        buttonEl.style.display =\n",
              "          google.colab.kernel.accessAllowed ? 'block' : 'none';\n",
              "\n",
              "        async function convertToInteractive(key) {\n",
              "          const element = document.querySelector('#df-47bafe66-6813-436f-8571-f196e05b2fb9');\n",
              "          const dataTable =\n",
              "            await google.colab.kernel.invokeFunction('convertToInteractive',\n",
              "                                                     [key], {});\n",
              "          if (!dataTable) return;\n",
              "\n",
              "          const docLinkHtml = 'Like what you see? Visit the ' +\n",
              "            '<a target=\"_blank\" href=https://colab.research.google.com/notebooks/data_table.ipynb>data table notebook</a>'\n",
              "            + ' to learn more about interactive tables.';\n",
              "          element.innerHTML = '';\n",
              "          dataTable['output_type'] = 'display_data';\n",
              "          await google.colab.output.renderOutput(dataTable, element);\n",
              "          const docLink = document.createElement('div');\n",
              "          docLink.innerHTML = docLinkHtml;\n",
              "          element.appendChild(docLink);\n",
              "        }\n",
              "      </script>\n",
              "    </div>\n",
              "  </div>\n",
              "  "
            ]
          },
          "metadata": {},
          "execution_count": 46
        }
      ]
    },
    {
      "cell_type": "code",
      "source": [
        "# Podemos observar o texto da coluna descrição todo em minúsculo\n",
        "\n",
        "gene['Descrição Split']"
      ],
      "metadata": {
        "colab": {
          "base_uri": "https://localhost:8080/"
        },
        "id": "JuPZ3ISbSz1w",
        "outputId": "43d05018-74e1-4305-f0ff-7f0f40763842"
      },
      "execution_count": 47,
      "outputs": [
        {
          "output_type": "execute_result",
          "data": {
            "text/plain": [
              "0     também conhecida como síndrome digeorge ou vel...\n",
              "1     indivíduos com síndrome de deleção 22q11.2 (22...\n",
              "2     é uma síndrome de deleção recorrente recém-des...\n",
              "3     é um distúrbio que geralmente causa deficiênci...\n",
              "4     a trissomia do cromossomo 8 em moisaico é defi...\n",
              "5     doença do desenvolvimento caracterizada por ca...\n",
              "6     é uma doença multissistêmica, devido a alteraç...\n",
              "7     é uma doença genética caracterizada por défice...\n",
              "8     é uma doença geneticamente heterogênea, caract...\n",
              "9     é uma doença geneticamente heterogênea, caract...\n",
              "10    é uma anomalia complexa, congênita e rara, car...\n",
              "11    é uma anomalia complexa, congênita e rara, car...\n",
              "12    trata-se de uma desordem cardíaca, genética, q...\n",
              "13    é uma doença autossômica dominante que acomete...\n",
              "14    é uma doença autossômica dominante que acomete...\n",
              "Name: Descrição Split, dtype: object"
            ]
          },
          "metadata": {},
          "execution_count": 47
        }
      ]
    },
    {
      "cell_type": "code",
      "source": [],
      "metadata": {
        "id": "xj-lQpnSSoRV"
      },
      "execution_count": null,
      "outputs": []
    },
    {
      "cell_type": "code",
      "source": [],
      "metadata": {
        "id": "c99wDNRSYBbs"
      },
      "execution_count": null,
      "outputs": []
    },
    {
      "cell_type": "code",
      "source": [],
      "metadata": {
        "id": "oGAVLUD2YBeY"
      },
      "execution_count": null,
      "outputs": []
    },
    {
      "cell_type": "code",
      "source": [],
      "metadata": {
        "id": "K8skUIiCYBgX"
      },
      "execution_count": null,
      "outputs": []
    },
    {
      "cell_type": "code",
      "source": [],
      "metadata": {
        "id": "OtmUWlR1YBme"
      },
      "execution_count": null,
      "outputs": []
    },
    {
      "cell_type": "code",
      "source": [],
      "metadata": {
        "id": "P4-YF-tOSoUI"
      },
      "execution_count": null,
      "outputs": []
    },
    {
      "cell_type": "code",
      "source": [],
      "metadata": {
        "id": "3GS-M_xaSoW9"
      },
      "execution_count": null,
      "outputs": []
    },
    {
      "cell_type": "code",
      "source": [],
      "metadata": {
        "id": "seYkfOKRSoZo"
      },
      "execution_count": null,
      "outputs": []
    },
    {
      "cell_type": "code",
      "source": [],
      "metadata": {
        "id": "wMSEAy6YSocx"
      },
      "execution_count": null,
      "outputs": []
    },
    {
      "cell_type": "code",
      "source": [
        "from nltk.corpus.reader.wordnet import FreqDist\n",
        "FreqDist(token).plot(60, cumulative=True)"
      ],
      "metadata": {
        "colab": {
          "base_uri": "https://localhost:8080/",
          "height": 296
        },
        "id": "nvZoJcCXLL61",
        "outputId": "4529cc91-15c6-4842-f10d-9c4bbe76d5be"
      },
      "execution_count": 20,
      "outputs": [
        {
          "output_type": "display_data",
          "data": {
            "text/plain": [
              "<Figure size 432x288 with 1 Axes>"
            ],
            "image/png": "[encoded data removed]"
          },
          "metadata": {
            "needs_background": "light"
          }
        },
        {
          "output_type": "execute_result",
          "data": {
            "text/plain": [
              "<AxesSubplot:xlabel='Samples', ylabel='Cumulative Counts'>"
            ]
          },
          "metadata": {},
          "execution_count": 20
        }
      ]
    },
    {
      "cell_type": "code",
      "source": [],
      "metadata": {
        "id": "pVgrHFrCLL9Z"
      },
      "execution_count": 12,
      "outputs": []
    },
    {
      "cell_type": "code",
      "source": [],
      "metadata": {
        "id": "_V5cGttqIyUo"
      },
      "execution_count": 12,
      "outputs": []
    },
    {
      "cell_type": "code",
      "source": [],
      "metadata": {
        "id": "aBCqj55kIyZy"
      },
      "execution_count": 12,
      "outputs": []
    },
    {
      "cell_type": "markdown",
      "source": [
        "### Pré processamento e treino com KerasNLP"
      ],
      "metadata": {
        "id": "4hMXJurZxhGo"
      }
    },
    {
      "cell_type": "code",
      "source": [
        "!pip install -q --upgrade keras-nlp tensorflow"
      ],
      "metadata": {
        "colab": {
          "base_uri": "https://localhost:8080/"
        },
        "id": "UKUaLpNlv5zM",
        "outputId": "75fc750a-009c-469c-cc82-aaf59c19f09c"
      },
      "execution_count": 13,
      "outputs": [
        {
          "output_type": "stream",
          "name": "stdout",
          "text": [
            "\u001b[2K     \u001b[90m━━━━━━━━━━━━━━━━━━━━━━━━━━━━━━━━━━━━━━━\u001b[0m \u001b[32m466.8/466.8 KB\u001b[0m \u001b[31m8.3 MB/s\u001b[0m eta \u001b[36m0:00:00\u001b[0m\n",
            "\u001b[2K     \u001b[90m━━━━━━━━━━━━━━━━━━━━━━━━━━━━━━━━━━━━━━━━\u001b[0m \u001b[32m5.8/5.8 MB\u001b[0m \u001b[31m30.1 MB/s\u001b[0m eta \u001b[36m0:00:00\u001b[0m\n",
            "\u001b[?25h"
          ]
        }
      ]
    },
    {
      "cell_type": "code",
      "source": [
        "import keras_nlp\n",
        "import tensorflow as tf\n",
        "from tensorflow import keras"
      ],
      "metadata": {
        "id": "Efc2eIDzoKZl"
      },
      "execution_count": 14,
      "outputs": []
    },
    {
      "cell_type": "code",
      "source": [],
      "metadata": {
        "id": "QqGplEDxoKcM"
      },
      "execution_count": 14,
      "outputs": []
    },
    {
      "cell_type": "code",
      "source": [],
      "metadata": {
        "id": "iEG0pFwUoKex"
      },
      "execution_count": 14,
      "outputs": []
    },
    {
      "cell_type": "code",
      "source": [],
      "metadata": {
        "id": "X6Drvvr2oKiJ"
      },
      "execution_count": 14,
      "outputs": []
    },
    {
      "cell_type": "code",
      "source": [
        "report = f\"\"\"\n",
        "          \n",
        "\n",
        "\n",
        "          \"\"\""
      ],
      "metadata": {
        "id": "Bb67TAeVnurh"
      },
      "execution_count": 15,
      "outputs": []
    }
  ]
}