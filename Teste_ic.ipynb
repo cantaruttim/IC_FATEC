{
  "nbformat": 4,
  "nbformat_minor": 0,
  "metadata": {
    "colab": {
      "provenance": [],
      "authorship_tag": "ABX9TyNPPfXV7YSMPRBZL4avQYrF",
      "include_colab_link": true
    },
    "kernelspec": {
      "name": "python3",
      "display_name": "Python 3"
    },
    "language_info": {
      "name": "python"
    }
  },
  "cells": [
    {
      "cell_type": "markdown",
      "metadata": {
        "id": "view-in-github",
        "colab_type": "text"
      },
      "source": [
        "<a href=\"https://colab.research.google.com/github/cantaruttim/IC_FATEC/blob/main/Teste_ic.ipynb\" target=\"_parent\"><img src=\"https://colab.research.google.com/assets/colab-badge.svg\" alt=\"Open In Colab\"/></a>"
      ]
    },
    {
      "cell_type": "code",
      "execution_count": 1,
      "metadata": {
        "id": "Y88R161Vl_n2"
      },
      "outputs": [],
      "source": [
        "import urllib.request  \n",
        "import bs4 as BeautifulSoup\n",
        "import nltk\n",
        "from string import punctuation\n",
        "from nltk.corpus import stopwords\n",
        "from nltk.tokenize import word_tokenize\n",
        "from nltk.tokenize import sent_tokenize "
      ]
    },
    {
      "cell_type": "code",
      "source": [
        "Wolf_Hirschhorn = urllib.request.urlopen('https://pt.wikipedia.org/wiki/S%C3%ADndrome_de_Wolf-Hirschhorn')\n",
        "Williams_Beuren = urllib.request.urlopen('https://pt.wikipedia.org/wiki/S%C3%ADndrome_de_Williams')\n",
        "Kleefstra = urllib.request.urlopen('https://en.wikipedia.org/wiki/9q34.3_deletion_syndrome')\n",
        "Noonan = urllib.request.urlopen('https://pt.wikipedia.org/wiki/S%C3%ADndrome_de_Noonan')\n",
        "Adams_Oliver = urllib.request.urlopen('https://en.wikipedia.org/wiki/Adams%E2%80%93Oliver_syndrome')\n",
        "Holt_Oram = urllib.request.urlopen('https://en.wikipedia.org/wiki/Holt%E2%80%93Oram_syndrome')\n",
        "Alagille = urllib.request.urlopen('https://pt.wikipedia.org/wiki/S%C3%ADndrome_de_Alagille')"
      ],
      "metadata": {
        "id": "W5iuWTeVwXDn"
      },
      "execution_count": 2,
      "outputs": []
    },
    {
      "cell_type": "code",
      "source": [
        "# Raw_Texts = [Wolf_Hirschhorn, Williams_Beuren, Kleefstra, Noonan, Adams_Oliver, Holt_Oram, Alagille]\n",
        "# Raw_Texts[0]"
      ],
      "metadata": {
        "id": "AvSq5zKI9aaK"
      },
      "execution_count": null,
      "outputs": []
    },
    {
      "cell_type": "code",
      "source": [
        "Wolf_Hirschhorn = Wolf_Hirschhorn.read()\n",
        "Wolf_Hirschhorn = BeautifulSoup.BeautifulSoup(Wolf_Hirschhorn, 'html.parser')"
      ],
      "metadata": {
        "id": "3GS-M_xaSoW9"
      },
      "execution_count": 3,
      "outputs": []
    },
    {
      "cell_type": "code",
      "source": [
        "Wolf_HirschhornP = Wolf_Hirschhorn.find_all('p')"
      ],
      "metadata": {
        "id": "U5r39JsL9ON0"
      },
      "execution_count": 5,
      "outputs": []
    },
    {
      "cell_type": "code",
      "source": [
        "WH_Conteudo = ''\n",
        "\n",
        "for p in Wolf_HirschhornP:\n",
        "  WH_Conteudo += p.text"
      ],
      "metadata": {
        "id": "wMSEAy6YSocx"
      },
      "execution_count": 6,
      "outputs": []
    },
    {
      "cell_type": "code",
      "source": [
        "# Conteúdo raw extraído da página\n",
        "WH_Conteudo"
      ],
      "metadata": {
        "id": "pVgrHFrCLL9Z"
      },
      "execution_count": null,
      "outputs": []
    },
    {
      "cell_type": "code",
      "source": [],
      "metadata": {
        "id": "_V5cGttqIyUo"
      },
      "execution_count": null,
      "outputs": []
    },
    {
      "cell_type": "code",
      "source": [],
      "metadata": {
        "id": "aBCqj55kIyZy"
      },
      "execution_count": null,
      "outputs": []
    },
    {
      "cell_type": "code",
      "source": [],
      "metadata": {
        "id": "X6Drvvr2oKiJ"
      },
      "execution_count": null,
      "outputs": []
    }
  ]
}