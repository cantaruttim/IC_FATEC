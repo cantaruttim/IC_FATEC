{
  "nbformat": 4,
  "nbformat_minor": 0,
  "metadata": {
    "colab": {
      "provenance": [],
      "authorship_tag": "ABX9TyOj+BgoAWPNCUBpMt65wv3z",
      "include_colab_link": true
    },
    "kernelspec": {
      "name": "python3",
      "display_name": "Python 3"
    },
    "language_info": {
      "name": "python"
    }
  },
  "cells": [
    {
      "cell_type": "markdown",
      "metadata": {
        "id": "view-in-github",
        "colab_type": "text"
      },
      "source": [
        "<a href=\"https://colab.research.google.com/github/cantaruttim/IC_FATEC/blob/main/Teste_ic.ipynb\" target=\"_parent\"><img src=\"https://colab.research.google.com/assets/colab-badge.svg\" alt=\"Open In Colab\"/></a>"
      ]
    },
    {
      "cell_type": "code",
      "execution_count": 1,
      "metadata": {
        "colab": {
          "base_uri": "https://localhost:8080/"
        },
        "id": "Y88R161Vl_n2",
        "outputId": "00317290-aedf-4efb-e8b6-82c99147c8f4"
      },
      "outputs": [
        {
          "output_type": "stream",
          "name": "stdout",
          "text": [
            "Gene identificado p53\n",
            "p53\n"
          ]
        }
      ],
      "source": [
        "# TESTE\n",
        "\n",
        "gene = input(str('Gene identificado '))\n",
        "print(gene)"
      ]
    },
    {
      "cell_type": "code",
      "source": [
        "# Exemplo de dicionário com gene:descrição\n",
        "\n",
        "\n",
        "gene_dic = {\n",
        "    'Genes':['TBX1', 'CRKL, ERK2/MAPK1', 'GJA5', 'PRDM16', \n",
        "                     'GATA4', 'WHSC1, FGFRL1', 'ELN, WSTF', 'EHMT1, NOTCH1',\n",
        "                     'PTPN11 (50%)', 'RIT1 (alta incidência de DCC)', 'RBPJ', 'NOTCH1',\n",
        "                     'TBX5', 'JAG1', 'NOTCH2'],\n",
        "            'Localização Cromossômica':['22Q11.2', '22q11.22', '1q21.1', '\t1P36.32',\n",
        "                                        '8p23.1', '4p16.3', '7q11.23', '9q34.3', '12q24.12',\n",
        "                                        '1q22', '4p12.2', '9q34.3', '12q24.21', '20p12.2', '1p12'],\n",
        "            'Condições': ['Deleção/Duplicação de 22q11.2',\n",
        "                          '22q11.2del distal',\n",
        "                          'Deleção/Duplicação de 1q21.1',\n",
        "                          '1p36del',\n",
        "                          '8P23.1DEL',\n",
        "                          'Síndrome de Wolf-Hirschhorn',\n",
        "                          'Síndrome de Williams Beuren',\n",
        "                          'Síndrome de Kleefstra',\n",
        "                          'Síndrome de Noonan',\n",
        "                          'Síndrome de Noonan',\n",
        "                          'Síndrome de Adams Oliver',\n",
        "                          'Síndrome de Adams Oliver',\n",
        "                          'Síndrome de Holt-Oram', \n",
        "                          'Síndrome de Alagille',\n",
        "                          'Síndrome de Alagille'],\n",
        "            'Descrição':['também conhecida como Síndrome DiGeorge ou velocardiofacial. É considerada uma das síndromes de microdeleção genética mais freqüentes em seres humanos. Caracteriza-se por um espectro fenotípico muito amplo.',\n",
        "                         'Indivíduos com síndrome de deleção 22q11.2 (22q11.2DS) podem apresentar uma ampla gama de características que são altamente variáveis, mesmo dentro das famílias. As principais manifestações clínicas da SD22q11.2 incluem cardiopatia congênita, particularmente malformações conotruncais (defeito do septo ventricular, tetralogia de Fallot, interrupção do arco aórtico e truncus arteriosus), anormalidades palatinas (incompetência velofaríngea, fenda palatina submucosa, úvula bífida e fenda palatina ), imunodeficiência, traços faciais característicos e dificuldades de aprendizagem. A perda auditiva pode ser neurossensorial e/ou condutiva. Também ocorrem anomalias laringotraqueoesofágicas, gastrointestinais, oftalmológicas, do sistema nervoso central, esqueléticas e geniturinárias. Doenças psiquiátricas e distúrbios autoimunes são mais comuns em indivíduos com SD22q11.2.',\n",
        "                         'é uma síndrome de deleção recorrente recém-descrito com manifestações clínicas variáveis, mas sem o quadro clínico de trombocitopenia - síndrome raio ausente (TAR).',\n",
        "                         'é um distúrbio que geralmente causa deficiência intelectual grave. A maioria dos indivíduos afetados não fala ou fala apenas algumas palavras. Eles podem ter acessos de raiva, morder a si mesmos ou exibir outros problemas de comportamento.',\n",
        "                         'A Trissomia do Cromossomo 8 em Moisaico é definida como a presença de três cópias do cromossomo 8 em algumas células do organismo. A frequência estimada de Trissomia do Cromossomo 8 em Moisaico é de cerca de 1/25.000 a 50.000 nascidos vivos e é encontrado ser mais prevalente em homens do que as mulheres. O fenótipo varia muito, desde anomalias para deficiências físicas e mentais graves, e más-formações que pode ou não ser detectável por ultrassonografia pré-natal. Conhecida por demonstrar extrema variabilidade clínica afetando vários sistemas, incluindo o Nervoso Central, ocular, cardíaco, gastrointestinal, genito-urinário e músculo-esquelético.',\n",
        "                         'Doença do desenvolvimento caracterizada por características craniofaciais típicas, défice de crescimento pré e pós-natal, perturbação do desenvolvimento intelectual, atraso grave no desenvolvimento psicomotor, convulsões e hipotonia. São observados atrasos graves de crescimento intra-uterino e no aumento de peso pós-natal. A fácies distinta é caracterizada por uma ponte nasal larga que se prolonga até à fronte (mais notório antes da puberdade), microcefalia, testa alta com glabela proeminente, sobrancelhas arqueadas, hipertelorismo, epicanto, malformação das orelhas com depressões/tags, filtro curto, cantos da boca inclinados para baixo, micrognatia e, nalguns casos, fenda labio-palatina. As anomalias esqueléticas incluem cifose ou escoliose com corpos vertebrais malformados, costelas acessórias ou fundidas, desvio dos pés e mão dividida. Os doentes apresentam hipotonia com subdesenvolvimento muscular, que frequentemente causa dificuldades alimentares e défice de crescimento. O atraso no desenvolvimento é grave: a maioria das crianças não atinge o controle de esfincteres, alimentar-se ou vestir-se de forma independente e menos de 50% adquire autonomia da marcha, com ou sem apoio. A perturbação do desenvolvimento intelectual é moderada a grave, raramente é ligeira. A fala é limitada a sons guturais ou dissílabos, embora alguns doentes consigam articular frases simples. O início das convulsões é frequentemente observado entre o período neonatal e os 36 meses (em até 95% dos doentes); o tipo de convulsão varia e muitas vezes é desencadeada por febre. O estado de mal epilético ocorre em metade dos doentes e as crianças podem desenvolver ausências atípicas (mais de 30%). Em aproximadamente metade dos doentes as convulsões cessam na infância. Na maioria das situações existem defeitos estruturais do sistema nervoso central, incluindo principalmente uma diminuição da espessura do corpo caloso. Outras anomalias frequentes incluem defeitos cardíacos congénitos (50%), anomalias oftalmológicas, auditivas e dentárias. Os doentes podem apresentar infeções recorrentes do trato respiratório e otite média, devido a défices de anticorpos (subclasse IgA ou IgG2). Têm sido descritas malformações do trato urinário, e metade dos doentes do sexo masculino apresenta hipospádia e criptorquidia.',\n",
        "                         'é uma doença multissistêmica, devido a alteração estrutural do cromossomo 7, em que possui a deleção de aproximadamente 25 genes contíguos',\n",
        "                         'é uma doença genética caracterizada por défice intelectual, hipotonia na infância, grave atraso de linguagem expressiva e uma aparência facial característica, com um espectro de outras características clínicas adicionais.',\n",
        "                         'é uma doença geneticamente heterogênea, caracterizada por cardiopatias congênitas, alterações faciais distintas, baixa estatura e outras manifestações. Destacamos a necessidade de obtenção de um diagnóstico precoce e correto, visando à melhoria da qualidade de vida dos portadores da síndrome.',\n",
        "                         'é uma doença geneticamente heterogênea, caracterizada por cardiopatias congênitas, alterações faciais distintas, baixa estatura e outras manifestações. Destacamos a necessidade de obtenção de um diagnóstico precoce e correto, visando à melhoria da qualidade de vida dos portadores da síndrome.',\n",
        "                         'é uma anomalia complexa, congênita e rara, caracterizada por aplasia con- gênita da cútis e defeitos dos membros e extremidades.',\n",
        "                         'é uma anomalia complexa, congênita e rara, caracterizada por aplasia con- gênita da cútis e defeitos dos membros e extremidades.',\n",
        "                         'trata-se de uma desordem cardíaca, genética, que vem acompanhada de malformações esqueléticas, caracterizada por comunicação interatrial, distúrbios de condição atrioventricular, hipoplasia vascular e malformações musculoesqueléticas dos membros superiores.',\n",
        "                         'é uma doença autossômica dominante que acomete 1 a cada 30 mil nascidos vivos, atingindo igualmente ambos os sexos. Está relacionada a defeito no gene JAGGED12. Caracteriza-se por anomalias no fígado, coração, olhos, face e esqueleto.',\n",
        "                         'é uma doença autossômica dominante que acomete 1 a cada 30 mil nascidos vivos, atingindo igualmente ambos os sexos. Está relacionada a defeito no gene JAGGED12. Caracteriza-se por anomalias no fígado, coração, olhos, face e esqueleto.'\n",
        "                         ]\n",
        "            }"
      ],
      "metadata": {
        "id": "fuH4hSNooKLg"
      },
      "execution_count": 4,
      "outputs": []
    },
    {
      "cell_type": "code",
      "source": [
        "gene_dic"
      ],
      "metadata": {
        "colab": {
          "base_uri": "https://localhost:8080/"
        },
        "id": "yGNqSDsKoKW7",
        "outputId": "17697c92-2768-48a1-9646-64bd3884040a"
      },
      "execution_count": 5,
      "outputs": [
        {
          "output_type": "execute_result",
          "data": {
            "text/plain": [
              "{'Genes': ['TBX1',\n",
              "  'CRKL, ERK2/MAPK1',\n",
              "  'GJA5',\n",
              "  'PRDM16',\n",
              "  'GATA4',\n",
              "  'WHSC1, FGFRL1',\n",
              "  'ELN, WSTF',\n",
              "  'EHMT1, NOTCH1',\n",
              "  'PTPN11 (50%)',\n",
              "  'RIT1 (alta incidência de DCC)',\n",
              "  'RBPJ',\n",
              "  'NOTCH1',\n",
              "  'TBX5',\n",
              "  'JAG1',\n",
              "  'NOTCH2'],\n",
              " 'Localização Cromossômica': ['22Q11.2',\n",
              "  '22q11.22',\n",
              "  '1q21.1',\n",
              "  '\\t1P36.32',\n",
              "  '8p23.1',\n",
              "  '4p16.3',\n",
              "  '7q11.23',\n",
              "  '9q34.3',\n",
              "  '12q24.12',\n",
              "  '1q22',\n",
              "  '4p12.2',\n",
              "  '9q34.3',\n",
              "  '12q24.21',\n",
              "  '20p12.2',\n",
              "  '1p12'],\n",
              " 'Condições': ['Deleção/Duplicação de 22q11.2',\n",
              "  '22q11.2del distal',\n",
              "  'Deleção/Duplicação de 1q21.1',\n",
              "  '1p36del',\n",
              "  '8P23.1DEL',\n",
              "  'Síndrome de Wolf-Hirschhorn',\n",
              "  'Síndrome de Williams Beuren',\n",
              "  'Síndrome de Kleefstra',\n",
              "  'Síndrome de Noonan',\n",
              "  'Síndrome de Noonan',\n",
              "  'Síndrome de Adams Oliver',\n",
              "  'Síndrome de Adams Oliver',\n",
              "  'Síndrome de Holt-Oram',\n",
              "  'Síndrome de Alagille',\n",
              "  'Síndrome de Alagille'],\n",
              " 'Descrição': ['também conhecida como Síndrome DiGeorge ou velocardiofacial. É considerada uma das síndromes de microdeleção genética mais freqüentes em seres humanos. Caracteriza-se por um espectro fenotípico muito amplo.',\n",
              "  'Indivíduos com síndrome de deleção 22q11.2 (22q11.2DS) podem apresentar uma ampla gama de características que são altamente variáveis, mesmo dentro das famílias. As principais manifestações clínicas da SD22q11.2 incluem cardiopatia congênita, particularmente malformações conotruncais (defeito do septo ventricular, tetralogia de Fallot, interrupção do arco aórtico e truncus arteriosus), anormalidades palatinas (incompetência velofaríngea, fenda palatina submucosa, úvula bífida e fenda palatina ), imunodeficiência, traços faciais característicos e dificuldades de aprendizagem. A perda auditiva pode ser neurossensorial e/ou condutiva. Também ocorrem anomalias laringotraqueoesofágicas, gastrointestinais, oftalmológicas, do sistema nervoso central, esqueléticas e geniturinárias. Doenças psiquiátricas e distúrbios autoimunes são mais comuns em indivíduos com SD22q11.2.',\n",
              "  'é uma síndrome de deleção recorrente recém-descrito com manifestações clínicas variáveis, mas sem o quadro clínico de trombocitopenia - síndrome raio ausente (TAR).',\n",
              "  'é um distúrbio que geralmente causa deficiência intelectual grave. A maioria dos indivíduos afetados não fala ou fala apenas algumas palavras. Eles podem ter acessos de raiva, morder a si mesmos ou exibir outros problemas de comportamento.',\n",
              "  'A Trissomia do Cromossomo 8 em Moisaico é definida como a presença de três cópias do cromossomo 8 em algumas células do organismo. A frequência estimada de Trissomia do Cromossomo 8 em Moisaico é de cerca de 1/25.000 a 50.000 nascidos vivos e é encontrado ser mais prevalente em homens do que as mulheres. O fenótipo varia muito, desde anomalias para deficiências físicas e mentais graves, e más-formações que pode ou não ser detectável por ultrassonografia pré-natal. Conhecida por demonstrar extrema variabilidade clínica afetando vários sistemas, incluindo o Nervoso Central, ocular, cardíaco, gastrointestinal, genito-urinário e músculo-esquelético.',\n",
              "  'Doença do desenvolvimento caracterizada por características craniofaciais típicas, défice de crescimento pré e pós-natal, perturbação do desenvolvimento intelectual, atraso grave no desenvolvimento psicomotor, convulsões e hipotonia. São observados atrasos graves de crescimento intra-uterino e no aumento de peso pós-natal. A fácies distinta é caracterizada por uma ponte nasal larga que se prolonga até à fronte (mais notório antes da puberdade), microcefalia, testa alta com glabela proeminente, sobrancelhas arqueadas, hipertelorismo, epicanto, malformação das orelhas com depressões/tags, filtro curto, cantos da boca inclinados para baixo, micrognatia e, nalguns casos, fenda labio-palatina. As anomalias esqueléticas incluem cifose ou escoliose com corpos vertebrais malformados, costelas acessórias ou fundidas, desvio dos pés e mão dividida. Os doentes apresentam hipotonia com subdesenvolvimento muscular, que frequentemente causa dificuldades alimentares e défice de crescimento. O atraso no desenvolvimento é grave: a maioria das crianças não atinge o controle de esfincteres, alimentar-se ou vestir-se de forma independente e menos de 50% adquire autonomia da marcha, com ou sem apoio. A perturbação do desenvolvimento intelectual é moderada a grave, raramente é ligeira. A fala é limitada a sons guturais ou dissílabos, embora alguns doentes consigam articular frases simples. O início das convulsões é frequentemente observado entre o período neonatal e os 36 meses (em até 95% dos doentes); o tipo de convulsão varia e muitas vezes é desencadeada por febre. O estado de mal epilético ocorre em metade dos doentes e as crianças podem desenvolver ausências atípicas (mais de 30%). Em aproximadamente metade dos doentes as convulsões cessam na infância. Na maioria das situações existem defeitos estruturais do sistema nervoso central, incluindo principalmente uma diminuição da espessura do corpo caloso. Outras anomalias frequentes incluem defeitos cardíacos congénitos (50%), anomalias oftalmológicas, auditivas e dentárias. Os doentes podem apresentar infeções recorrentes do trato respiratório e otite média, devido a défices de anticorpos (subclasse IgA ou IgG2). Têm sido descritas malformações do trato urinário, e metade dos doentes do sexo masculino apresenta hipospádia e criptorquidia.',\n",
              "  'é uma doença multissistêmica, devido a alteração estrutural do cromossomo 7, em que possui a deleção de aproximadamente 25 genes contíguos',\n",
              "  'é uma doença genética caracterizada por défice intelectual, hipotonia na infância, grave atraso de linguagem expressiva e uma aparência facial característica, com um espectro de outras características clínicas adicionais.',\n",
              "  'é uma doença geneticamente heterogênea, caracterizada por cardiopatias congênitas, alterações faciais distintas, baixa estatura e outras manifestações. Destacamos a necessidade de obtenção de um diagnóstico precoce e correto, visando à melhoria da qualidade de vida dos portadores da síndrome.',\n",
              "  'é uma doença geneticamente heterogênea, caracterizada por cardiopatias congênitas, alterações faciais distintas, baixa estatura e outras manifestações. Destacamos a necessidade de obtenção de um diagnóstico precoce e correto, visando à melhoria da qualidade de vida dos portadores da síndrome.',\n",
              "  'é uma anomalia complexa, congênita e rara, caracterizada por aplasia con- gênita da cútis e defeitos dos membros e extremidades.',\n",
              "  'é uma anomalia complexa, congênita e rara, caracterizada por aplasia con- gênita da cútis e defeitos dos membros e extremidades.',\n",
              "  'trata-se de uma desordem cardíaca, genética, que vem acompanhada de malformações esqueléticas, caracterizada por comunicação interatrial, distúrbios de condição atrioventricular, hipoplasia vascular e malformações musculoesqueléticas dos membros superiores.',\n",
              "  'é uma doença autossômica dominante que acomete 1 a cada 30 mil nascidos vivos, atingindo igualmente ambos os sexos. Está relacionada a defeito no gene JAGGED12. Caracteriza-se por anomalias no fígado, coração, olhos, face e esqueleto.',\n",
              "  'é uma doença autossômica dominante que acomete 1 a cada 30 mil nascidos vivos, atingindo igualmente ambos os sexos. Está relacionada a defeito no gene JAGGED12. Caracteriza-se por anomalias no fígado, coração, olhos, face e esqueleto.']}"
            ]
          },
          "metadata": {},
          "execution_count": 5
        }
      ]
    },
    {
      "cell_type": "code",
      "source": [],
      "metadata": {
        "id": "Efc2eIDzoKZl"
      },
      "execution_count": null,
      "outputs": []
    },
    {
      "cell_type": "code",
      "source": [],
      "metadata": {
        "id": "QqGplEDxoKcM"
      },
      "execution_count": null,
      "outputs": []
    },
    {
      "cell_type": "code",
      "source": [],
      "metadata": {
        "id": "iEG0pFwUoKex"
      },
      "execution_count": null,
      "outputs": []
    },
    {
      "cell_type": "code",
      "source": [],
      "metadata": {
        "id": "X6Drvvr2oKiJ"
      },
      "execution_count": null,
      "outputs": []
    },
    {
      "cell_type": "code",
      "source": [
        "report = f\"\"\"\n",
        "          \n",
        "\n",
        "\n",
        "          \"\"\""
      ],
      "metadata": {
        "id": "Bb67TAeVnurh"
      },
      "execution_count": null,
      "outputs": []
    }
  ]
}