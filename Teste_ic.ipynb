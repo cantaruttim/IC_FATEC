{
  "nbformat": 4,
  "nbformat_minor": 0,
  "metadata": {
    "colab": {
      "provenance": []
    },
    "kernelspec": {
      "name": "python3",
      "display_name": "Python 3"
    },
    "language_info": {
      "name": "python"
    }
  },
  "cells": [
    {
      "cell_type": "code",
      "execution_count": null,
      "metadata": {
        "id": "Y88R161Vl_n2"
      },
      "outputs": [],
      "source": [
        "import urllib.request  \n",
        "import bs4 as BeautifulSoup\n",
        "import nltk\n",
        "from string import punctuation\n",
        "from nltk.corpus import stopwords\n",
        "from nltk.tokenize import word_tokenize\n",
        "from nltk.tokenize import sent_tokenize "
      ]
    },
    {
      "cell_type": "code",
      "source": [
        "Wolf_Hirschhorn = urllib.request.urlopen('https://pt.wikipedia.org/wiki/S%C3%ADndrome_de_Wolf-Hirschhorn')\n",
        "Williams_Beuren = urllib.request.urlopen('https://pt.wikipedia.org/wiki/S%C3%ADndrome_de_Williams')\n",
        "Kleefstra = urllib.request.urlopen('https://en.wikipedia.org/wiki/9q34.3_deletion_syndrome')\n",
        "Noonan = urllib.request.urlopen('https://pt.wikipedia.org/wiki/S%C3%ADndrome_de_Noonan')\n",
        "Adams_Oliver = urllib.request.urlopen('https://en.wikipedia.org/wiki/Adams%E2%80%93Oliver_syndrome')\n",
        "Holt_Oram = urllib.request.urlopen('https://en.wikipedia.org/wiki/Holt%E2%80%93Oram_syndrome')\n",
        "Alagille = urllib.request.urlopen('https://pt.wikipedia.org/wiki/S%C3%ADndrome_de_Alagille')"
      ],
      "metadata": {
        "id": "W5iuWTeVwXDn"
      },
      "execution_count": null,
      "outputs": []
    },
    {
      "cell_type": "code",
      "source": [
        "# Raw_Texts = [Wolf_Hirschhorn, Williams_Beuren, Kleefstra, Noonan, Adams_Oliver, Holt_Oram, Alagille]\n",
        "# Raw_Texts[0]"
      ],
      "metadata": {
        "id": "AvSq5zKI9aaK"
      },
      "execution_count": null,
      "outputs": []
    },
    {
      "cell_type": "code",
      "source": [
        "# Coletando o texto de cada uma das síndromes\n",
        "Wolf_Hirschhorn = Wolf_Hirschhorn.read()\n",
        "Wolf_Hirschhorn = BeautifulSoup.BeautifulSoup(Wolf_Hirschhorn, 'html.parser')\n",
        "\n",
        "Williams_Beuren = Williams_Beuren.read()\n",
        "Williams_Beuren = BeautifulSoup.BeautifulSoup(Williams_Beuren, 'html.parser')\n",
        "\n",
        "Kleefstra = Kleefstra.read()\n",
        "Kleefstra = BeautifulSoup.BeautifulSoup(Kleefstra, 'html.parser')\n",
        "\n",
        "Noonan = Noonan.read()\n",
        "Noonan = BeautifulSoup.BeautifulSoup(Noonan, 'html.parser')\n",
        "\n",
        "Adams_Oliver = Adams_Oliver.read()\n",
        "Adams_Oliver = BeautifulSoup.BeautifulSoup(Adams_Oliver, 'html.parser')\n",
        "\n",
        "Holt_Oram = Holt_Oram.read()\n",
        "Holt_Oram = BeautifulSoup.BeautifulSoup(Holt_Oram,'html.parser')\n",
        "\n",
        "Alagille = Alagille.read()\n",
        "Alagille = BeautifulSoup.BeautifulSoup(Alagille, 'html.parser')"
      ],
      "metadata": {
        "id": "3GS-M_xaSoW9"
      },
      "execution_count": null,
      "outputs": []
    },
    {
      "cell_type": "code",
      "source": [
        "Wolf_HirschhornP = Wolf_Hirschhorn.find_all('p')\n",
        "Williams_BeurenP = Williams_Beuren.find_all('p')\n",
        "KleefstraP = Kleefstra.find_all('p')\n",
        "NoonanP = Noonan.find_all('p')\n",
        "Adams_OliverP = Adams_Oliver.find_all('p')\n",
        "Holt_OramP = Holt_Oram.find_all('p')\n",
        "AlagilleP = Alagille.find_all('p')"
      ],
      "metadata": {
        "id": "U5r39JsL9ON0"
      },
      "execution_count": null,
      "outputs": []
    },
    {
      "cell_type": "code",
      "source": [
        "WH_Conteudo = ''\n",
        "\n",
        "for p in Wolf_HirschhornP:\n",
        "  WH_Conteudo += p.text"
      ],
      "metadata": {
        "id": "wMSEAy6YSocx"
      },
      "execution_count": null,
      "outputs": []
    },
    {
      "cell_type": "code",
      "source": [
        "# Conteúdo raw extraído da página\n",
        "WH_Conteudo"
      ],
      "metadata": {
        "id": "pVgrHFrCLL9Z"
      },
      "execution_count": null,
      "outputs": []
    },
    {
      "cell_type": "code",
      "source": [],
      "metadata": {
        "id": "_V5cGttqIyUo"
      },
      "execution_count": null,
      "outputs": []
    },
    {
      "cell_type": "code",
      "source": [],
      "metadata": {
        "id": "aBCqj55kIyZy"
      },
      "execution_count": null,
      "outputs": []
    },
    {
      "cell_type": "code",
      "source": [],
      "metadata": {
        "id": "X6Drvvr2oKiJ"
      },
      "execution_count": null,
      "outputs": []
    }
  ]
}