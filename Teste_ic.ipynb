{
  "nbformat": 4,
  "nbformat_minor": 0,
  "metadata": {
    "colab": {
      "provenance": [],
      "authorship_tag": "ABX9TyMG4Uc4i1ut64NCuVIrErE+",
      "include_colab_link": true
    },
    "kernelspec": {
      "name": "python3",
      "display_name": "Python 3"
    },
    "language_info": {
      "name": "python"
    }
  },
  "cells": [
    {
      "cell_type": "markdown",
      "metadata": {
        "id": "view-in-github",
        "colab_type": "text"
      },
      "source": [
        "<a href=\"https://colab.research.google.com/github/cantaruttim/IC_FATEC/blob/main/Teste_ic.ipynb\" target=\"_parent\"><img src=\"https://colab.research.google.com/assets/colab-badge.svg\" alt=\"Open In Colab\"/></a>"
      ]
    },
    {
      "cell_type": "code",
      "execution_count": 36,
      "metadata": {
        "colab": {
          "base_uri": "https://localhost:8080/",
          "height": 363
        },
        "id": "Y88R161Vl_n2",
        "outputId": "e4b8b6b6-aa1b-4621-bbc8-b418df6052f7"
      },
      "outputs": [
        {
          "output_type": "error",
          "ename": "KeyboardInterrupt",
          "evalue": "ignored",
          "traceback": [
            "\u001b[0;31m---------------------------------------------------------------------------\u001b[0m",
            "\u001b[0;31mKeyboardInterrupt\u001b[0m                         Traceback (most recent call last)",
            "\u001b[0;32m<ipython-input-36-2cbacffff1e2>\u001b[0m in \u001b[0;36m<module>\u001b[0;34m\u001b[0m\n\u001b[1;32m      1\u001b[0m \u001b[0;31m# TESTE\u001b[0m\u001b[0;34m\u001b[0m\u001b[0;34m\u001b[0m\u001b[0;34m\u001b[0m\u001b[0m\n\u001b[1;32m      2\u001b[0m \u001b[0;34m\u001b[0m\u001b[0m\n\u001b[0;32m----> 3\u001b[0;31m \u001b[0mgene\u001b[0m \u001b[0;34m=\u001b[0m \u001b[0minput\u001b[0m\u001b[0;34m(\u001b[0m\u001b[0mstr\u001b[0m\u001b[0;34m(\u001b[0m\u001b[0;34m'Gene identificado '\u001b[0m\u001b[0;34m)\u001b[0m\u001b[0;34m)\u001b[0m\u001b[0;34m\u001b[0m\u001b[0;34m\u001b[0m\u001b[0m\n\u001b[0m\u001b[1;32m      4\u001b[0m \u001b[0mprint\u001b[0m\u001b[0;34m(\u001b[0m\u001b[0mgene\u001b[0m\u001b[0;34m)\u001b[0m\u001b[0;34m\u001b[0m\u001b[0;34m\u001b[0m\u001b[0m\n",
            "\u001b[0;32m/usr/local/lib/python3.8/dist-packages/ipykernel/kernelbase.py\u001b[0m in \u001b[0;36mraw_input\u001b[0;34m(self, prompt)\u001b[0m\n\u001b[1;32m    858\u001b[0m                 \u001b[0;34m\"raw_input was called, but this frontend does not support input requests.\"\u001b[0m\u001b[0;34m\u001b[0m\u001b[0;34m\u001b[0m\u001b[0m\n\u001b[1;32m    859\u001b[0m             )\n\u001b[0;32m--> 860\u001b[0;31m         return self._input_request(str(prompt),\n\u001b[0m\u001b[1;32m    861\u001b[0m             \u001b[0mself\u001b[0m\u001b[0;34m.\u001b[0m\u001b[0m_parent_ident\u001b[0m\u001b[0;34m,\u001b[0m\u001b[0;34m\u001b[0m\u001b[0;34m\u001b[0m\u001b[0m\n\u001b[1;32m    862\u001b[0m             \u001b[0mself\u001b[0m\u001b[0;34m.\u001b[0m\u001b[0m_parent_header\u001b[0m\u001b[0;34m,\u001b[0m\u001b[0;34m\u001b[0m\u001b[0;34m\u001b[0m\u001b[0m\n",
            "\u001b[0;32m/usr/local/lib/python3.8/dist-packages/ipykernel/kernelbase.py\u001b[0m in \u001b[0;36m_input_request\u001b[0;34m(self, prompt, ident, parent, password)\u001b[0m\n\u001b[1;32m    902\u001b[0m             \u001b[0;32mexcept\u001b[0m \u001b[0mKeyboardInterrupt\u001b[0m\u001b[0;34m:\u001b[0m\u001b[0;34m\u001b[0m\u001b[0;34m\u001b[0m\u001b[0m\n\u001b[1;32m    903\u001b[0m                 \u001b[0;31m# re-raise KeyboardInterrupt, to truncate traceback\u001b[0m\u001b[0;34m\u001b[0m\u001b[0;34m\u001b[0m\u001b[0;34m\u001b[0m\u001b[0m\n\u001b[0;32m--> 904\u001b[0;31m                 \u001b[0;32mraise\u001b[0m \u001b[0mKeyboardInterrupt\u001b[0m\u001b[0;34m(\u001b[0m\u001b[0;34m\"Interrupted by user\"\u001b[0m\u001b[0;34m)\u001b[0m \u001b[0;32mfrom\u001b[0m \u001b[0;32mNone\u001b[0m\u001b[0;34m\u001b[0m\u001b[0;34m\u001b[0m\u001b[0m\n\u001b[0m\u001b[1;32m    905\u001b[0m             \u001b[0;32mexcept\u001b[0m \u001b[0mException\u001b[0m \u001b[0;32mas\u001b[0m \u001b[0me\u001b[0m\u001b[0;34m:\u001b[0m\u001b[0;34m\u001b[0m\u001b[0;34m\u001b[0m\u001b[0m\n\u001b[1;32m    906\u001b[0m                 \u001b[0mself\u001b[0m\u001b[0;34m.\u001b[0m\u001b[0mlog\u001b[0m\u001b[0;34m.\u001b[0m\u001b[0mwarning\u001b[0m\u001b[0;34m(\u001b[0m\u001b[0;34m\"Invalid Message:\"\u001b[0m\u001b[0;34m,\u001b[0m \u001b[0mexc_info\u001b[0m\u001b[0;34m=\u001b[0m\u001b[0;32mTrue\u001b[0m\u001b[0;34m)\u001b[0m\u001b[0;34m\u001b[0m\u001b[0;34m\u001b[0m\u001b[0m\n",
            "\u001b[0;31mKeyboardInterrupt\u001b[0m: Interrupted by user"
          ]
        }
      ],
      "source": [
        "# TESTE\n",
        "\n",
        "#gene = input(str('Gene identificado '))\n",
        "#print(gene)"
      ]
    },
    {
      "cell_type": "code",
      "source": [
        "# Exemplo de dicionário com gene:descrição\n",
        "\n",
        "\n",
        "gene_dic = {\n",
        "    'Genes':['TBX1', 'CRKL, ERK2/MAPK1', 'GJA5', 'PRDM16', \n",
        "                     'GATA4', 'WHSC1, FGFRL1', 'ELN, WSTF', 'EHMT1, NOTCH1',\n",
        "                     'PTPN11 (50%)', 'RIT1 (alta incidência de DCC)', 'RBPJ', 'NOTCH1',\n",
        "                     'TBX5', 'JAG1', 'NOTCH2'],\n",
        "            'Localização Cromossômica':['22Q11.2', '22q11.22', '1q21.1', '\t1P36.32',\n",
        "                                        '8p23.1', '4p16.3', '7q11.23', '9q34.3', '12q24.12',\n",
        "                                        '1q22', '4p12.2', '9q34.3', '12q24.21', '20p12.2', '1p12'],\n",
        "            'Condições': ['Deleção/Duplicação de 22q11.2',\n",
        "                          '22q11.2del distal',\n",
        "                          'Deleção/Duplicação de 1q21.1',\n",
        "                          '1p36del',\n",
        "                          '8P23.1DEL',\n",
        "                          'Síndrome de Wolf-Hirschhorn',\n",
        "                          'Síndrome de Williams Beuren',\n",
        "                          'Síndrome de Kleefstra',\n",
        "                          'Síndrome de Noonan',\n",
        "                          'Síndrome de Noonan',\n",
        "                          'Síndrome de Adams Oliver',\n",
        "                          'Síndrome de Adams Oliver',\n",
        "                          'Síndrome de Holt-Oram', \n",
        "                          'Síndrome de Alagille',\n",
        "                          'Síndrome de Alagille'],\n",
        "            'Descrição':['também conhecida como Síndrome DiGeorge ou velocardiofacial. É considerada uma das síndromes de microdeleção genética mais freqüentes em seres humanos. Caracteriza-se por um espectro fenotípico muito amplo.',\n",
        "                         'Indivíduos com síndrome de deleção 22q11.2 (22q11.2DS) podem apresentar uma ampla gama de características que são altamente variáveis, mesmo dentro das famílias. As principais manifestações clínicas da SD22q11.2 incluem cardiopatia congênita, particularmente malformações conotruncais (defeito do septo ventricular, tetralogia de Fallot, interrupção do arco aórtico e truncus arteriosus), anormalidades palatinas (incompetência velofaríngea, fenda palatina submucosa, úvula bífida e fenda palatina ), imunodeficiência, traços faciais característicos e dificuldades de aprendizagem. A perda auditiva pode ser neurossensorial e/ou condutiva. Também ocorrem anomalias laringotraqueoesofágicas, gastrointestinais, oftalmológicas, do sistema nervoso central, esqueléticas e geniturinárias. Doenças psiquiátricas e distúrbios autoimunes são mais comuns em indivíduos com SD22q11.2.',\n",
        "                         'é uma síndrome de deleção recorrente recém-descrito com manifestações clínicas variáveis, mas sem o quadro clínico de trombocitopenia - síndrome raio ausente (TAR).',\n",
        "                         'é um distúrbio que geralmente causa deficiência intelectual grave. A maioria dos indivíduos afetados não fala ou fala apenas algumas palavras. Eles podem ter acessos de raiva, morder a si mesmos ou exibir outros problemas de comportamento.',\n",
        "                         'A Trissomia do Cromossomo 8 em Moisaico é definida como a presença de três cópias do cromossomo 8 em algumas células do organismo. A frequência estimada de Trissomia do Cromossomo 8 em Moisaico é de cerca de 1/25.000 a 50.000 nascidos vivos e é encontrado ser mais prevalente em homens do que as mulheres. O fenótipo varia muito, desde anomalias para deficiências físicas e mentais graves, e más-formações que pode ou não ser detectável por ultrassonografia pré-natal. Conhecida por demonstrar extrema variabilidade clínica afetando vários sistemas, incluindo o Nervoso Central, ocular, cardíaco, gastrointestinal, genito-urinário e músculo-esquelético.',\n",
        "                         'Doença do desenvolvimento caracterizada por características craniofaciais típicas, défice de crescimento pré e pós-natal, perturbação do desenvolvimento intelectual, atraso grave no desenvolvimento psicomotor, convulsões e hipotonia. São observados atrasos graves de crescimento intra-uterino e no aumento de peso pós-natal. A fácies distinta é caracterizada por uma ponte nasal larga que se prolonga até à fronte (mais notório antes da puberdade), microcefalia, testa alta com glabela proeminente, sobrancelhas arqueadas, hipertelorismo, epicanto, malformação das orelhas com depressões/tags, filtro curto, cantos da boca inclinados para baixo, micrognatia e, nalguns casos, fenda labio-palatina. As anomalias esqueléticas incluem cifose ou escoliose com corpos vertebrais malformados, costelas acessórias ou fundidas, desvio dos pés e mão dividida. Os doentes apresentam hipotonia com subdesenvolvimento muscular, que frequentemente causa dificuldades alimentares e défice de crescimento. O atraso no desenvolvimento é grave: a maioria das crianças não atinge o controle de esfincteres, alimentar-se ou vestir-se de forma independente e menos de 50% adquire autonomia da marcha, com ou sem apoio. A perturbação do desenvolvimento intelectual é moderada a grave, raramente é ligeira. A fala é limitada a sons guturais ou dissílabos, embora alguns doentes consigam articular frases simples. O início das convulsões é frequentemente observado entre o período neonatal e os 36 meses (em até 95% dos doentes); o tipo de convulsão varia e muitas vezes é desencadeada por febre. O estado de mal epilético ocorre em metade dos doentes e as crianças podem desenvolver ausências atípicas (mais de 30%). Em aproximadamente metade dos doentes as convulsões cessam na infância. Na maioria das situações existem defeitos estruturais do sistema nervoso central, incluindo principalmente uma diminuição da espessura do corpo caloso. Outras anomalias frequentes incluem defeitos cardíacos congénitos (50%), anomalias oftalmológicas, auditivas e dentárias. Os doentes podem apresentar infeções recorrentes do trato respiratório e otite média, devido a défices de anticorpos (subclasse IgA ou IgG2). Têm sido descritas malformações do trato urinário, e metade dos doentes do sexo masculino apresenta hipospádia e criptorquidia.',\n",
        "                         'é uma doença multissistêmica, devido a alteração estrutural do cromossomo 7, em que possui a deleção de aproximadamente 25 genes contíguos',\n",
        "                         'é uma doença genética caracterizada por défice intelectual, hipotonia na infância, grave atraso de linguagem expressiva e uma aparência facial característica, com um espectro de outras características clínicas adicionais.',\n",
        "                         'é uma doença geneticamente heterogênea, caracterizada por cardiopatias congênitas, alterações faciais distintas, baixa estatura e outras manifestações. Destacamos a necessidade de obtenção de um diagnóstico precoce e correto, visando à melhoria da qualidade de vida dos portadores da síndrome.',\n",
        "                         'é uma doença geneticamente heterogênea, caracterizada por cardiopatias congênitas, alterações faciais distintas, baixa estatura e outras manifestações. Destacamos a necessidade de obtenção de um diagnóstico precoce e correto, visando à melhoria da qualidade de vida dos portadores da síndrome.',\n",
        "                         'é uma anomalia complexa, congênita e rara, caracterizada por aplasia con- gênita da cútis e defeitos dos membros e extremidades.',\n",
        "                         'é uma anomalia complexa, congênita e rara, caracterizada por aplasia con- gênita da cútis e defeitos dos membros e extremidades.',\n",
        "                         'trata-se de uma desordem cardíaca, genética, que vem acompanhada de malformações esqueléticas, caracterizada por comunicação interatrial, distúrbios de condição atrioventricular, hipoplasia vascular e malformações musculoesqueléticas dos membros superiores.',\n",
        "                         'é uma doença autossômica dominante que acomete 1 a cada 30 mil nascidos vivos, atingindo igualmente ambos os sexos. Está relacionada a defeito no gene JAGGED12. Caracteriza-se por anomalias no fígado, coração, olhos, face e esqueleto.',\n",
        "                         'é uma doença autossômica dominante que acomete 1 a cada 30 mil nascidos vivos, atingindo igualmente ambos os sexos. Está relacionada a defeito no gene JAGGED12. Caracteriza-se por anomalias no fígado, coração, olhos, face e esqueleto.'\n",
        "                         ]\n",
        "            }"
      ],
      "metadata": {
        "id": "fuH4hSNooKLg"
      },
      "execution_count": 37,
      "outputs": []
    },
    {
      "cell_type": "code",
      "source": [
        "gene_dic"
      ],
      "metadata": {
        "id": "yGNqSDsKoKW7"
      },
      "execution_count": null,
      "outputs": []
    },
    {
      "cell_type": "code",
      "source": [
        "import pandas as pd\n",
        "\n",
        "gene = pd.DataFrame(gene_dic)\n",
        "display(gene)"
      ],
      "metadata": {
        "colab": {
          "base_uri": "https://localhost:8080/",
          "height": 519
        },
        "id": "f7efJfcSzbeg",
        "outputId": "ce53a722-4779-4374-c33e-9cef575c3834"
      },
      "execution_count": 39,
      "outputs": [
        {
          "output_type": "display_data",
          "data": {
            "text/plain": [
              "                            Genes Localização Cromossômica  \\\n",
              "0                            TBX1                  22Q11.2   \n",
              "1                CRKL, ERK2/MAPK1                 22q11.22   \n",
              "2                            GJA5                   1q21.1   \n",
              "3                          PRDM16                \\t1P36.32   \n",
              "4                           GATA4                   8p23.1   \n",
              "5                   WHSC1, FGFRL1                   4p16.3   \n",
              "6                       ELN, WSTF                  7q11.23   \n",
              "7                   EHMT1, NOTCH1                   9q34.3   \n",
              "8                    PTPN11 (50%)                 12q24.12   \n",
              "9   RIT1 (alta incidência de DCC)                     1q22   \n",
              "10                           RBPJ                   4p12.2   \n",
              "11                         NOTCH1                   9q34.3   \n",
              "12                           TBX5                 12q24.21   \n",
              "13                           JAG1                  20p12.2   \n",
              "14                         NOTCH2                     1p12   \n",
              "\n",
              "                        Condições  \\\n",
              "0   Deleção/Duplicação de 22q11.2   \n",
              "1               22q11.2del distal   \n",
              "2    Deleção/Duplicação de 1q21.1   \n",
              "3                         1p36del   \n",
              "4                       8P23.1DEL   \n",
              "5     Síndrome de Wolf-Hirschhorn   \n",
              "6     Síndrome de Williams Beuren   \n",
              "7           Síndrome de Kleefstra   \n",
              "8              Síndrome de Noonan   \n",
              "9              Síndrome de Noonan   \n",
              "10       Síndrome de Adams Oliver   \n",
              "11       Síndrome de Adams Oliver   \n",
              "12          Síndrome de Holt-Oram   \n",
              "13           Síndrome de Alagille   \n",
              "14           Síndrome de Alagille   \n",
              "\n",
              "                                            Descrição  \n",
              "0   também conhecida como Síndrome DiGeorge ou vel...  \n",
              "1   Indivíduos com síndrome de deleção 22q11.2 (22...  \n",
              "2   é uma síndrome de deleção recorrente recém-des...  \n",
              "3   é um distúrbio que geralmente causa deficiênci...  \n",
              "4   A Trissomia do Cromossomo 8 em Moisaico é defi...  \n",
              "5   Doença do desenvolvimento caracterizada por ca...  \n",
              "6   é uma doença multissistêmica, devido a alteraç...  \n",
              "7   é uma doença genética caracterizada por défice...  \n",
              "8   é uma doença geneticamente heterogênea, caract...  \n",
              "9   é uma doença geneticamente heterogênea, caract...  \n",
              "10  é uma anomalia complexa, congênita e rara, car...  \n",
              "11  é uma anomalia complexa, congênita e rara, car...  \n",
              "12  trata-se de uma desordem cardíaca, genética, q...  \n",
              "13  é uma doença autossômica dominante que acomete...  \n",
              "14  é uma doença autossômica dominante que acomete...  "
            ],
            "text/html": [
              "\n",
              "  <div id=\"df-17272feb-3ce9-451b-98b2-8fa35c2279ef\">\n",
              "    <div class=\"colab-df-container\">\n",
              "      <div>\n",
              "<style scoped>\n",
              "    .dataframe tbody tr th:only-of-type {\n",
              "        vertical-align: middle;\n",
              "    }\n",
              "\n",
              "    .dataframe tbody tr th {\n",
              "        vertical-align: top;\n",
              "    }\n",
              "\n",
              "    .dataframe thead th {\n",
              "        text-align: right;\n",
              "    }\n",
              "</style>\n",
              "<table border=\"1\" class=\"dataframe\">\n",
              "  <thead>\n",
              "    <tr style=\"text-align: right;\">\n",
              "      <th></th>\n",
              "      <th>Genes</th>\n",
              "      <th>Localização Cromossômica</th>\n",
              "      <th>Condições</th>\n",
              "      <th>Descrição</th>\n",
              "    </tr>\n",
              "  </thead>\n",
              "  <tbody>\n",
              "    <tr>\n",
              "      <th>0</th>\n",
              "      <td>TBX1</td>\n",
              "      <td>22Q11.2</td>\n",
              "      <td>Deleção/Duplicação de 22q11.2</td>\n",
              "      <td>também conhecida como Síndrome DiGeorge ou vel...</td>\n",
              "    </tr>\n",
              "    <tr>\n",
              "      <th>1</th>\n",
              "      <td>CRKL, ERK2/MAPK1</td>\n",
              "      <td>22q11.22</td>\n",
              "      <td>22q11.2del distal</td>\n",
              "      <td>Indivíduos com síndrome de deleção 22q11.2 (22...</td>\n",
              "    </tr>\n",
              "    <tr>\n",
              "      <th>2</th>\n",
              "      <td>GJA5</td>\n",
              "      <td>1q21.1</td>\n",
              "      <td>Deleção/Duplicação de 1q21.1</td>\n",
              "      <td>é uma síndrome de deleção recorrente recém-des...</td>\n",
              "    </tr>\n",
              "    <tr>\n",
              "      <th>3</th>\n",
              "      <td>PRDM16</td>\n",
              "      <td>\\t1P36.32</td>\n",
              "      <td>1p36del</td>\n",
              "      <td>é um distúrbio que geralmente causa deficiênci...</td>\n",
              "    </tr>\n",
              "    <tr>\n",
              "      <th>4</th>\n",
              "      <td>GATA4</td>\n",
              "      <td>8p23.1</td>\n",
              "      <td>8P23.1DEL</td>\n",
              "      <td>A Trissomia do Cromossomo 8 em Moisaico é defi...</td>\n",
              "    </tr>\n",
              "    <tr>\n",
              "      <th>5</th>\n",
              "      <td>WHSC1, FGFRL1</td>\n",
              "      <td>4p16.3</td>\n",
              "      <td>Síndrome de Wolf-Hirschhorn</td>\n",
              "      <td>Doença do desenvolvimento caracterizada por ca...</td>\n",
              "    </tr>\n",
              "    <tr>\n",
              "      <th>6</th>\n",
              "      <td>ELN, WSTF</td>\n",
              "      <td>7q11.23</td>\n",
              "      <td>Síndrome de Williams Beuren</td>\n",
              "      <td>é uma doença multissistêmica, devido a alteraç...</td>\n",
              "    </tr>\n",
              "    <tr>\n",
              "      <th>7</th>\n",
              "      <td>EHMT1, NOTCH1</td>\n",
              "      <td>9q34.3</td>\n",
              "      <td>Síndrome de Kleefstra</td>\n",
              "      <td>é uma doença genética caracterizada por défice...</td>\n",
              "    </tr>\n",
              "    <tr>\n",
              "      <th>8</th>\n",
              "      <td>PTPN11 (50%)</td>\n",
              "      <td>12q24.12</td>\n",
              "      <td>Síndrome de Noonan</td>\n",
              "      <td>é uma doença geneticamente heterogênea, caract...</td>\n",
              "    </tr>\n",
              "    <tr>\n",
              "      <th>9</th>\n",
              "      <td>RIT1 (alta incidência de DCC)</td>\n",
              "      <td>1q22</td>\n",
              "      <td>Síndrome de Noonan</td>\n",
              "      <td>é uma doença geneticamente heterogênea, caract...</td>\n",
              "    </tr>\n",
              "    <tr>\n",
              "      <th>10</th>\n",
              "      <td>RBPJ</td>\n",
              "      <td>4p12.2</td>\n",
              "      <td>Síndrome de Adams Oliver</td>\n",
              "      <td>é uma anomalia complexa, congênita e rara, car...</td>\n",
              "    </tr>\n",
              "    <tr>\n",
              "      <th>11</th>\n",
              "      <td>NOTCH1</td>\n",
              "      <td>9q34.3</td>\n",
              "      <td>Síndrome de Adams Oliver</td>\n",
              "      <td>é uma anomalia complexa, congênita e rara, car...</td>\n",
              "    </tr>\n",
              "    <tr>\n",
              "      <th>12</th>\n",
              "      <td>TBX5</td>\n",
              "      <td>12q24.21</td>\n",
              "      <td>Síndrome de Holt-Oram</td>\n",
              "      <td>trata-se de uma desordem cardíaca, genética, q...</td>\n",
              "    </tr>\n",
              "    <tr>\n",
              "      <th>13</th>\n",
              "      <td>JAG1</td>\n",
              "      <td>20p12.2</td>\n",
              "      <td>Síndrome de Alagille</td>\n",
              "      <td>é uma doença autossômica dominante que acomete...</td>\n",
              "    </tr>\n",
              "    <tr>\n",
              "      <th>14</th>\n",
              "      <td>NOTCH2</td>\n",
              "      <td>1p12</td>\n",
              "      <td>Síndrome de Alagille</td>\n",
              "      <td>é uma doença autossômica dominante que acomete...</td>\n",
              "    </tr>\n",
              "  </tbody>\n",
              "</table>\n",
              "</div>\n",
              "      <button class=\"colab-df-convert\" onclick=\"convertToInteractive('df-17272feb-3ce9-451b-98b2-8fa35c2279ef')\"\n",
              "              title=\"Convert this dataframe to an interactive table.\"\n",
              "              style=\"display:none;\">\n",
              "        \n",
              "  <svg xmlns=\"http://www.w3.org/2000/svg\" height=\"24px\"viewBox=\"0 0 24 24\"\n",
              "       width=\"24px\">\n",
              "    <path d=\"M0 0h24v24H0V0z\" fill=\"none\"/>\n",
              "    <path d=\"M18.56 5.44l.94 2.06.94-2.06 2.06-.94-2.06-.94-.94-2.06-.94 2.06-2.06.94zm-11 1L8.5 8.5l.94-2.06 2.06-.94-2.06-.94L8.5 2.5l-.94 2.06-2.06.94zm10 10l.94 2.06.94-2.06 2.06-.94-2.06-.94-.94-2.06-.94 2.06-2.06.94z\"/><path d=\"M17.41 7.96l-1.37-1.37c-.4-.4-.92-.59-1.43-.59-.52 0-1.04.2-1.43.59L10.3 9.45l-7.72 7.72c-.78.78-.78 2.05 0 2.83L4 21.41c.39.39.9.59 1.41.59.51 0 1.02-.2 1.41-.59l7.78-7.78 2.81-2.81c.8-.78.8-2.07 0-2.86zM5.41 20L4 18.59l7.72-7.72 1.47 1.35L5.41 20z\"/>\n",
              "  </svg>\n",
              "      </button>\n",
              "      \n",
              "  <style>\n",
              "    .colab-df-container {\n",
              "      display:flex;\n",
              "      flex-wrap:wrap;\n",
              "      gap: 12px;\n",
              "    }\n",
              "\n",
              "    .colab-df-convert {\n",
              "      background-color: #E8F0FE;\n",
              "      border: none;\n",
              "      border-radius: 50%;\n",
              "      cursor: pointer;\n",
              "      display: none;\n",
              "      fill: #1967D2;\n",
              "      height: 32px;\n",
              "      padding: 0 0 0 0;\n",
              "      width: 32px;\n",
              "    }\n",
              "\n",
              "    .colab-df-convert:hover {\n",
              "      background-color: #E2EBFA;\n",
              "      box-shadow: 0px 1px 2px rgba(60, 64, 67, 0.3), 0px 1px 3px 1px rgba(60, 64, 67, 0.15);\n",
              "      fill: #174EA6;\n",
              "    }\n",
              "\n",
              "    [theme=dark] .colab-df-convert {\n",
              "      background-color: #3B4455;\n",
              "      fill: #D2E3FC;\n",
              "    }\n",
              "\n",
              "    [theme=dark] .colab-df-convert:hover {\n",
              "      background-color: #434B5C;\n",
              "      box-shadow: 0px 1px 3px 1px rgba(0, 0, 0, 0.15);\n",
              "      filter: drop-shadow(0px 1px 2px rgba(0, 0, 0, 0.3));\n",
              "      fill: #FFFFFF;\n",
              "    }\n",
              "  </style>\n",
              "\n",
              "      <script>\n",
              "        const buttonEl =\n",
              "          document.querySelector('#df-17272feb-3ce9-451b-98b2-8fa35c2279ef button.colab-df-convert');\n",
              "        buttonEl.style.display =\n",
              "          google.colab.kernel.accessAllowed ? 'block' : 'none';\n",
              "\n",
              "        async function convertToInteractive(key) {\n",
              "          const element = document.querySelector('#df-17272feb-3ce9-451b-98b2-8fa35c2279ef');\n",
              "          const dataTable =\n",
              "            await google.colab.kernel.invokeFunction('convertToInteractive',\n",
              "                                                     [key], {});\n",
              "          if (!dataTable) return;\n",
              "\n",
              "          const docLinkHtml = 'Like what you see? Visit the ' +\n",
              "            '<a target=\"_blank\" href=https://colab.research.google.com/notebooks/data_table.ipynb>data table notebook</a>'\n",
              "            + ' to learn more about interactive tables.';\n",
              "          element.innerHTML = '';\n",
              "          dataTable['output_type'] = 'display_data';\n",
              "          await google.colab.output.renderOutput(dataTable, element);\n",
              "          const docLink = document.createElement('div');\n",
              "          docLink.innerHTML = docLinkHtml;\n",
              "          element.appendChild(docLink);\n",
              "        }\n",
              "      </script>\n",
              "    </div>\n",
              "  </div>\n",
              "  "
            ]
          },
          "metadata": {}
        }
      ]
    },
    {
      "cell_type": "code",
      "source": [
        "import nltk\n",
        "from nltk.corpus import stopwords\n",
        "from nltk.tokenize import word_tokenize\n",
        "import wordninja"
      ],
      "metadata": {
        "id": "my_9FG0UzlTh"
      },
      "execution_count": 41,
      "outputs": []
    },
    {
      "cell_type": "code",
      "source": [
        "nltk.download('stopwords')\n",
        "nltk.download('punkt')"
      ],
      "metadata": {
        "colab": {
          "base_uri": "https://localhost:8080/"
        },
        "id": "cT_YUuspz0GJ",
        "outputId": "b86477fc-f04c-474d-963a-e33121e9c488"
      },
      "execution_count": 42,
      "outputs": [
        {
          "output_type": "stream",
          "name": "stderr",
          "text": [
            "[nltk_data] Downloading package stopwords to /root/nltk_data...\n",
            "[nltk_data]   Package stopwords is already up-to-date!\n",
            "[nltk_data] Downloading package punkt to /root/nltk_data...\n",
            "[nltk_data]   Package punkt is already up-to-date!\n"
          ]
        },
        {
          "output_type": "execute_result",
          "data": {
            "text/plain": [
              "True"
            ]
          },
          "metadata": {},
          "execution_count": 42
        }
      ]
    },
    {
      "cell_type": "code",
      "source": [],
      "metadata": {
        "id": "eGPqX3TkIyRC"
      },
      "execution_count": null,
      "outputs": []
    },
    {
      "cell_type": "code",
      "source": [],
      "metadata": {
        "id": "ykL3p9p1LL37"
      },
      "execution_count": null,
      "outputs": []
    },
    {
      "cell_type": "code",
      "source": [],
      "metadata": {
        "id": "nvZoJcCXLL61"
      },
      "execution_count": null,
      "outputs": []
    },
    {
      "cell_type": "code",
      "source": [],
      "metadata": {
        "id": "pVgrHFrCLL9Z"
      },
      "execution_count": null,
      "outputs": []
    },
    {
      "cell_type": "code",
      "source": [],
      "metadata": {
        "id": "_V5cGttqIyUo"
      },
      "execution_count": null,
      "outputs": []
    },
    {
      "cell_type": "code",
      "source": [],
      "metadata": {
        "id": "aBCqj55kIyZy"
      },
      "execution_count": null,
      "outputs": []
    },
    {
      "cell_type": "markdown",
      "source": [
        "### Pré processamento e treino com KerasNLP"
      ],
      "metadata": {
        "id": "4hMXJurZxhGo"
      }
    },
    {
      "cell_type": "code",
      "source": [
        "!pip install -q --upgrade keras-nlp tensorflow"
      ],
      "metadata": {
        "id": "UKUaLpNlv5zM"
      },
      "execution_count": 8,
      "outputs": []
    },
    {
      "cell_type": "code",
      "source": [
        "import keras_nlp\n",
        "import tensorflow as tf\n",
        "from tensorflow import keras"
      ],
      "metadata": {
        "id": "Efc2eIDzoKZl"
      },
      "execution_count": 9,
      "outputs": []
    },
    {
      "cell_type": "code",
      "source": [],
      "metadata": {
        "id": "QqGplEDxoKcM"
      },
      "execution_count": null,
      "outputs": []
    },
    {
      "cell_type": "code",
      "source": [],
      "metadata": {
        "id": "iEG0pFwUoKex"
      },
      "execution_count": null,
      "outputs": []
    },
    {
      "cell_type": "code",
      "source": [],
      "metadata": {
        "id": "X6Drvvr2oKiJ"
      },
      "execution_count": null,
      "outputs": []
    },
    {
      "cell_type": "code",
      "source": [
        "report = f\"\"\"\n",
        "          \n",
        "\n",
        "\n",
        "          \"\"\""
      ],
      "metadata": {
        "id": "Bb67TAeVnurh"
      },
      "execution_count": null,
      "outputs": []
    }
  ]
}